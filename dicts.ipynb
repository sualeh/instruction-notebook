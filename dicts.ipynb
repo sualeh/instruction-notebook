{
 "cells": [
  {
   "attachments": {},
   "cell_type": "markdown",
   "id": "c097ccd7",
   "metadata": {},
   "source": [
    "# Dictionaries"
   ]
  },
  {
   "attachments": {},
   "cell_type": "markdown",
   "id": "7dbfa1a0",
   "metadata": {},
   "source": [
    "## Create Dictionaries"
   ]
  },
  {
   "cell_type": "code",
   "execution_count": null,
   "id": "4226a434",
   "metadata": {},
   "outputs": [],
   "source": [
    "# Define empty dictionary\n",
    "example_d = {}\n",
    "example_d"
   ]
  },
  {
   "cell_type": "code",
   "execution_count": null,
   "id": "22080f2e",
   "metadata": {},
   "outputs": [],
   "source": [
    "# Dictionary with integer keys\n",
    "example_d = {1: \"apple\", 2: \"ball\"}\n",
    "example_d"
   ]
  },
  {
   "cell_type": "code",
   "execution_count": null,
   "id": "3b12fd1a",
   "metadata": {},
   "outputs": [],
   "source": [
    "# Dictionary with mixed keys\n",
    "example_d = {\"name\": \"John\", 1: [2, 4, 3]}\n",
    "example_d"
   ]
  },
  {
   "cell_type": "code",
   "execution_count": null,
   "id": "207c3d45",
   "metadata": {},
   "outputs": [],
   "source": [
    "# Create dictionary from list of tuples\n",
    "example_d = dict([(1, \"apple\"), (2, \"ball\")])\n",
    "example_d"
   ]
  },
  {
   "attachments": {},
   "cell_type": "markdown",
   "id": "e30da8fa",
   "metadata": {},
   "source": [
    "## Lookup Values in Dictionaries"
   ]
  },
  {
   "cell_type": "code",
   "execution_count": null,
   "id": "23b958c8",
   "metadata": {},
   "outputs": [],
   "source": [
    "example_d = {\"name\": \"Jack\", \"age\": 26}\n",
    "example_d[\"name\"]"
   ]
  },
  {
   "cell_type": "code",
   "execution_count": null,
   "id": "5cd1bdc1",
   "metadata": {},
   "outputs": [],
   "source": [
    "example_d.get(\"age\")"
   ]
  },
  {
   "cell_type": "code",
   "execution_count": null,
   "id": "68006245",
   "metadata": {},
   "outputs": [],
   "source": [
    "example_d.get(\"address\")"
   ]
  },
  {
   "cell_type": "code",
   "execution_count": null,
   "id": "14749e19",
   "metadata": {},
   "outputs": [],
   "source": [
    "example_d[\"address\"]\n",
    "example_d"
   ]
  },
  {
   "cell_type": "markdown",
   "id": "65164ae0",
   "metadata": {},
   "source": [
    "## Update Values in Dictionaries"
   ]
  },
  {
   "cell_type": "markdown",
   "id": "36fdfef2",
   "metadata": {},
   "source": [
    "Current contents of dictionary:"
   ]
  },
  {
   "cell_type": "code",
   "execution_count": null,
   "id": "a29f941d",
   "metadata": {},
   "outputs": [],
   "source": [
    "example_d"
   ]
  },
  {
   "cell_type": "code",
   "execution_count": null,
   "id": "a28538c8",
   "metadata": {},
   "outputs": [],
   "source": [
    "example_d[\"age\"] = 27\n",
    "example_d"
   ]
  },
  {
   "cell_type": "code",
   "execution_count": null,
   "id": "3ca572a4",
   "metadata": {},
   "outputs": [],
   "source": [
    "example_d[\"address\"] = \"Downtown\"\n",
    "example_d"
   ]
  },
  {
   "attachments": {},
   "cell_type": "markdown",
   "id": "d661e5f9",
   "metadata": {},
   "source": [
    "## Remove Values from Dictionaries"
   ]
  },
  {
   "cell_type": "code",
   "execution_count": null,
   "id": "67876a1c",
   "metadata": {},
   "outputs": [],
   "source": [
    "example_d.pop(\"name\")"
   ]
  },
  {
   "cell_type": "code",
   "execution_count": null,
   "id": "aa631035",
   "metadata": {},
   "outputs": [],
   "source": [
    "example_d"
   ]
  },
  {
   "cell_type": "code",
   "execution_count": null,
   "id": "a96ea505",
   "metadata": {},
   "outputs": [],
   "source": [
    "example_d.clear()\n",
    "example_d"
   ]
  },
  {
   "cell_type": "code",
   "execution_count": null,
   "id": "efcc42be",
   "metadata": {},
   "outputs": [],
   "source": [
    "d1 = {'a': 1, 'b': 2}\n",
    "d1.pop( )"
   ]
  }
 ],
 "metadata": {
  "jupytext": {
   "cell_metadata_filter": "-all",
   "main_language": "python",
   "notebook_metadata_filter": "-all"
  },
  "kernelspec": {
   "display_name": "instruction-notebook-lDGMCnlp-py3.13",
   "language": "python",
   "name": "python3"
  },
  "language_info": {
   "codemirror_mode": {
    "name": "ipython",
    "version": 3
   },
   "file_extension": ".py",
   "mimetype": "text/x-python",
   "name": "python",
   "nbconvert_exporter": "python",
   "pygments_lexer": "ipython3",
   "version": "3.13.3"
  }
 },
 "nbformat": 4,
 "nbformat_minor": 5
}

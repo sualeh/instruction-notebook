{
 "cells": [
  {
   "attachments": {},
   "cell_type": "markdown",
   "id": "d498f3d5",
   "metadata": {},
   "source": [
    "# Types of Methods: Instance, Class, Static"
   ]
  },
  {
   "attachments": {},
   "cell_type": "markdown",
   "id": "88dc9638",
   "metadata": {},
   "source": [
    "Define a class with instance, class and static methods. Instance methods can access instance attributes or member variables. Class methods can access or modify class attributes. This can affect the behavior of the whole class, as well as objects from the class. Static methods are called at the class level, but cannot access any class or instance attributes. "
   ]
  },
  {
   "cell_type": "code",
   "execution_count": null,
   "id": "4ede9b9c",
   "metadata": {},
   "outputs": [],
   "source": [
    "class Multiplier:\n",
    "\n",
    "  # Private class attribute\n",
    "  __factor: int = 10\n",
    "\n",
    "  def __init__(self, value: int = 0):\n",
    "    self.__value = value  # Instance attribute\n",
    "\n",
    "  # Instance method to multiply the value\n",
    "  def multiple(self) -> int:\n",
    "    return self.__value * self.__class__.__factor\n",
    "\n",
    "  @classmethod\n",
    "  def change_factor(cls, new_factor: int):\n",
    "    cls.__factor = new_factor\n",
    "\n",
    "  @staticmethod\n",
    "  def make_new_multiplier(value: int = 0):\n",
    "    return Multiplier(value)"
   ]
  },
  {
   "attachments": {},
   "cell_type": "markdown",
   "id": "ae6bf312",
   "metadata": {},
   "source": [
    "See how different types of methods work."
   ]
  },
  {
   "cell_type": "markdown",
   "id": "190205f2",
   "metadata": {},
   "source": [
    "## Instance Methods\n",
    "\n",
    "Each instance has its own instance attributes."
   ]
  },
  {
   "cell_type": "code",
   "execution_count": null,
   "id": "1de40bc2",
   "metadata": {},
   "outputs": [],
   "source": [
    "# Create two instances, and each will have their own instance attributes\n",
    "value3 = Multiplier(3)\n",
    "value5 = Multiplier(5)\n",
    "\n",
    "print(value3.multiple())\n",
    "print(value5.multiple())"
   ]
  },
  {
   "cell_type": "markdown",
   "id": "20259bc1",
   "metadata": {},
   "source": [
    "## Class Methods\n",
    "\n",
    "Class methods can access or modify class attributes, which may change the behavior of all instances of the class."
   ]
  },
  {
   "cell_type": "code",
   "execution_count": null,
   "id": "96ab131e",
   "metadata": {},
   "outputs": [],
   "source": [
    "Multiplier.change_factor(20)\n",
    "\n",
    "# Now both instances will use the new factor\n",
    "print(value3.multiple())\n",
    "print(value5.multiple())"
   ]
  },
  {
   "cell_type": "markdown",
   "id": "32c7b4d2",
   "metadata": {},
   "source": [
    "## Static Methods\n",
    "\n",
    "Static methods are attached to classes, but cannot access class or instance attributes. They can be useful as factory methods to create new instances, for example."
   ]
  },
  {
   "cell_type": "code",
   "execution_count": null,
   "id": "46d34136",
   "metadata": {},
   "outputs": [],
   "source": [
    "no_value = Multiplier.make_new_multiplier(10)\n",
    "\n",
    "print(no_value.multiple())"
   ]
  }
 ],
 "metadata": {
  "jupytext": {
   "cell_metadata_filter": "-all",
   "main_language": "python",
   "notebook_metadata_filter": "-all"
  },
  "kernelspec": {
   "display_name": "instruction-notebook-lDGMCnlp-py3.13",
   "language": "python",
   "name": "python3"
  },
  "language_info": {
   "codemirror_mode": {
    "name": "ipython",
    "version": 3
   },
   "file_extension": ".py",
   "mimetype": "text/x-python",
   "name": "python",
   "nbconvert_exporter": "python",
   "pygments_lexer": "ipython3",
   "version": "3.13.3"
  }
 },
 "nbformat": 4,
 "nbformat_minor": 5
}

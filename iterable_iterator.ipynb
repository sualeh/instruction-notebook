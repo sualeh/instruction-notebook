{
 "cells": [
  {
   "attachments": {},
   "cell_type": "markdown",
   "id": "9c7e92a3",
   "metadata": {},
   "source": [
    "# Iterable and Iterator"
   ]
  },
  {
   "attachments": {},
   "cell_type": "markdown",
   "id": "ac121fc6",
   "metadata": {},
   "source": [
    "## Question 1\n",
    "\n",
    "> Section 7.12.4, question6_100_4\n",
    "\n",
    "- What is the type of your iterable?\n",
    "- What is the type of your iterator variable?\n"
   ]
  },
  {
   "cell_type": "code",
   "execution_count": null,
   "id": "22271a95",
   "metadata": {
    "lines_to_next_cell": 2
   },
   "outputs": [],
   "source": [
    "t = (\"couch\", \"chair\", \"washer\", \"dryer\", \"table\")\n",
    "print(type(t))\n",
    "for z in t:\n",
    "    print(z)\n",
    "    print(type(z))"
   ]
  },
  {
   "cell_type": "markdown",
   "id": "ed6fad32",
   "metadata": {},
   "source": [
    "A. string  \n",
    "B. list  \n",
    "C. tuple  \n",
    "D. iterable  \n",
    "E. error, unable to iterate over the object"
   ]
  },
  {
   "attachments": {},
   "cell_type": "markdown",
   "id": "e52f2a4a",
   "metadata": {},
   "source": [
    "## Question 2\n",
    "\n",
    "> Section 7.12.4, question6_100_3\n",
    "\n",
    "- What is the type of your iterable?\n",
    "- What is the type of your iterator variable?\n"
   ]
  },
  {
   "cell_type": "code",
   "execution_count": null,
   "id": "6abb4881",
   "metadata": {
    "lines_to_next_cell": 2
   },
   "outputs": [],
   "source": [
    "y = 18\n",
    "print(type(y))\n",
    "for z in y:\n",
    "    print(z)\n",
    "    print(type(z))"
   ]
  },
  {
   "attachments": {},
   "cell_type": "markdown",
   "id": "81fc525b",
   "metadata": {},
   "source": [
    "A. string  \n",
    "B. list  \n",
    "C. tuple  \n",
    "D. iterable  \n",
    "E. error, unable to iterate over the object"
   ]
  },
  {
   "attachments": {},
   "cell_type": "markdown",
   "id": "1dc3eec2",
   "metadata": {},
   "source": [
    "## Question 3\n",
    "\n",
    "> Section 7.12.4, question6_100_1\n",
    "\n",
    "- What is the type of your iterable?\n",
    "- What is the type of your iterator variable in the first iteration?"
   ]
  },
  {
   "cell_type": "code",
   "execution_count": null,
   "id": "44e60734",
   "metadata": {
    "lines_to_next_cell": 2
   },
   "outputs": [],
   "source": [
    "n = [\"word\", \"phrase\", 8, (\"beam\")]\n",
    "print(type(n))\n",
    "for item in n:\n",
    "    print(item)\n",
    "    print(type(item))"
   ]
  },
  {
   "attachments": {},
   "cell_type": "markdown",
   "id": "fc1b9d34",
   "metadata": {},
   "source": [
    "A. string  \n",
    "B. list  \n",
    "C. tuple  \n",
    "D. iterable  \n",
    "E. error, unable to iterate over the object"
   ]
  },
  {
   "attachments": {},
   "cell_type": "markdown",
   "id": "8960441f",
   "metadata": {},
   "source": [
    "## Question 4\n",
    "\n",
    "> Section 7.12.4, question6_100_7\n",
    "\n",
    "- What is the type of your iterable?\n",
    "- What is the type of your iterator variable in the first iteration?"
   ]
  },
  {
   "cell_type": "code",
   "execution_count": null,
   "id": "aff6a741",
   "metadata": {
    "lines_to_next_cell": 2
   },
   "outputs": [],
   "source": [
    "t = [9, \"setter\", 3, \"wing spiker\", 10, \"middle blocker\"]\n",
    "print(type(t))\n",
    "for z in t:\n",
    "    print(z)\n",
    "    print(type(z))"
   ]
  },
  {
   "attachments": {},
   "cell_type": "markdown",
   "id": "1bf36117",
   "metadata": {},
   "source": [
    "A. string  \n",
    "B. list  \n",
    "C. tuple  \n",
    "D. iterable  \n",
    "E. error, unable to iterate over the object"
   ]
  }
 ],
 "metadata": {
  "jupytext": {
   "cell_metadata_filter": "-all",
   "main_language": "python",
   "notebook_metadata_filter": "-all"
  },
  "kernelspec": {
   "display_name": "instruction-notebook-lDGMCnlp-py3.13",
   "language": "python",
   "name": "python3"
  },
  "language_info": {
   "codemirror_mode": {
    "name": "ipython",
    "version": 3
   },
   "file_extension": ".py",
   "mimetype": "text/x-python",
   "name": "python",
   "nbconvert_exporter": "python",
   "pygments_lexer": "ipython3",
   "version": "3.13.3"
  }
 },
 "nbformat": 4,
 "nbformat_minor": 5
}

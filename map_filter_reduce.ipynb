{
 "cells": [
  {
   "cell_type": "markdown",
   "metadata": {},
   "source": [
    "# Map, Filter, Reduce"
   ]
  },
  {
   "cell_type": "markdown",
   "metadata": {},
   "source": [
    "## Lambda Functions"
   ]
  },
  {
   "cell_type": "markdown",
   "metadata": {},
   "source": [
    "In Python, a function is an object."
   ]
  },
  {
   "cell_type": "code",
   "execution_count": null,
   "metadata": {},
   "outputs": [],
   "source": [
    "def add5(n):\n",
    "    return n + 5"
   ]
  },
  {
   "cell_type": "code",
   "execution_count": null,
   "metadata": {},
   "outputs": [],
   "source": [
    "print(add5, type(add5))"
   ]
  },
  {
   "cell_type": "markdown",
   "metadata": {},
   "source": [
    "We can pass a function to another function:"
   ]
  },
  {
   "cell_type": "code",
   "execution_count": null,
   "metadata": {},
   "outputs": [],
   "source": [
    "def calculate(f, number):\n",
    "    f_result = f(number)\n",
    "    return f_result"
   ]
  },
  {
   "cell_type": "code",
   "execution_count": null,
   "metadata": {},
   "outputs": [],
   "source": [
    "result = calculate(add5, 10)\n",
    "print(result)"
   ]
  },
  {
   "cell_type": "markdown",
   "metadata": {},
   "source": [
    "When a function is a function parameter, we can use a lambda for the arguement."
   ]
  },
  {
   "cell_type": "code",
   "execution_count": null,
   "metadata": {},
   "outputs": [],
   "source": [
    "result = calculate(lambda x: x + 4, 10)\n",
    "print(result)"
   ]
  },
  {
   "cell_type": "markdown",
   "metadata": {},
   "source": [
    "## Map\n",
    "\n",
    "Mapping transforms elements from one iterable to another by applying a function to each item. It resturns a new iterable with the \"mapped\" results."
   ]
  },
  {
   "cell_type": "markdown",
   "metadata": {},
   "source": [
    "We can map one list to another using the accumulator pattern. "
   ]
  },
  {
   "cell_type": "code",
   "execution_count": null,
   "metadata": {},
   "outputs": [],
   "source": [
    "def map_list(numbers):\n",
    "    mapped_list = []\n",
    "    for n in numbers:\n",
    "        mapped_list.append(n + 4)\n",
    "\n",
    "    return mapped_list"
   ]
  },
  {
   "cell_type": "code",
   "execution_count": null,
   "metadata": {},
   "outputs": [],
   "source": [
    "print(map_list([2, 3, 7]))"
   ]
  },
  {
   "cell_type": "markdown",
   "metadata": {},
   "source": [
    "Python has an in-built `map` function that does this work for us. It is easy to use."
   ]
  },
  {
   "cell_type": "code",
   "execution_count": null,
   "metadata": {},
   "outputs": [],
   "source": [
    "result = map(lambda x: x + 4, [2, 3, 7])"
   ]
  },
  {
   "cell_type": "markdown",
   "metadata": {},
   "source": [
    "The result is an iterable, and we can convert it to a list if needed."
   ]
  },
  {
   "cell_type": "code",
   "execution_count": null,
   "metadata": {},
   "outputs": [],
   "source": [
    "print(result)\n",
    "print(list(result))"
   ]
  },
  {
   "cell_type": "markdown",
   "metadata": {},
   "source": [
    "The map function is called once for each element in the list (or iterable) argument. To demonstrate how the `map` function works, we can we use a function to debug the calls by printing.  Here is code that counts and prints what is passed to the map function."
   ]
  },
  {
   "cell_type": "code",
   "execution_count": null,
   "metadata": {},
   "outputs": [],
   "source": [
    "def count_calls(n):\n",
    "    count_calls.counter += 1\n",
    "    print(f\"... call #{count_calls.counter} with value {n}\")\n",
    "    return n + 4\n",
    "\n",
    "# Reset the counter to 0\n",
    "count_calls.counter = 0\n",
    "\n",
    "result = map(count_calls, [7, 8, 9])\n",
    "print(\"Mapped result: :\", list(result))"
   ]
  },
  {
   "cell_type": "markdown",
   "metadata": {},
   "source": [
    "## Filter\n",
    "\n",
    "The `filter` function removes values from the list.  If the predicate function passed to filter returns false, the current value in the list is removed.  Here is a simple example that removes all numbers with the value 2."
   ]
  },
  {
   "cell_type": "code",
   "execution_count": null,
   "metadata": {},
   "outputs": [],
   "source": [
    "nums = [1, 2, 3, 2, 5, 2, 8]\n",
    "\n",
    "# Filter out the number 2 from the list\n",
    "def remove_two(n):\n",
    "    return n != 2\n",
    "\n",
    "missing_twos = filter(remove_two, nums)\n",
    "print(list(missing_twos))"
   ]
  },
  {
   "cell_type": "markdown",
   "metadata": {},
   "source": [
    "## Reduce\n",
    "\n",
    "The `reduce` function takes two arguments, a function and a sequence, and \"reduces\" it to a single value, using the accumulator pattern.  Say the sequence is a list of numbers [2, 3, 4, 6]   The first two numbers passed to the function will be 2 and 3.  On the second call to the function, the numbers will be 5 (2 + 3) and the next number in the list (4)."
   ]
  },
  {
   "cell_type": "code",
   "execution_count": null,
   "metadata": {},
   "outputs": [],
   "source": [
    "from functools import reduce\n",
    "\n",
    "def reduce_add_func(x, y):\n",
    "    reduce_add_func.count += 1\n",
    "    print(f\"... reduce function call #{reduce_add_func.count} with {x} and {y}\")\n",
    "    return x + y\n",
    "\n",
    "# Reset the counter to 0\n",
    "reduce_add_func.count = 0\n",
    "\n",
    "reduce_result = reduce(reduce_add_func, [2, 3, 4, 6])\n",
    "print(f\"Reduced result: {reduce_result}\")"
   ]
  }
 ],
 "metadata": {
  "kernelspec": {
   "display_name": "instruction-notebook-lDGMCnlp-py3.13",
   "language": "python",
   "name": "python3"
  },
  "language_info": {
   "codemirror_mode": {
    "name": "ipython",
    "version": 3
   },
   "file_extension": ".py",
   "mimetype": "text/x-python",
   "name": "python",
   "nbconvert_exporter": "python",
   "pygments_lexer": "ipython3",
   "version": "3.13.3"
  }
 },
 "nbformat": 4,
 "nbformat_minor": 2
}

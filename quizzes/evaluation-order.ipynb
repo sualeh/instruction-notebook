{
 "cells": [
  {
   "attachments": {},
   "cell_type": "markdown",
   "id": "4653db86",
   "metadata": {},
   "source": [
    "# Evaluation Order\n",
    "\n",
    "## Evaluating Expressions and Function Calls\n",
    "\n",
    "Solving Parsons Problem **pp_2_10_1** in Section 2.10 of the textbook:\n",
    "\n",
    "*Order the code fragments in the order in which the Python interpreter would evaluate them.* \n",
    "*x is 2 and y is 3*. \n",
    "\n",
    "*The interpreter is executing:* `square(x + sub(square(y), 2 *x))`"
   ]
  },
  {
   "cell_type": "code",
   "execution_count": null,
   "id": "942febd8",
   "metadata": {},
   "outputs": [],
   "source": [
    "def square(a: int):\n",
    "    \"\"\"Square of number.\"\"\"\n",
    "    return a * a"
   ]
  },
  {
   "cell_type": "code",
   "execution_count": null,
   "id": "641bb225",
   "metadata": {},
   "outputs": [],
   "source": [
    "def sub(a: int, b: int):\n",
    "    \"\"\"Subtract second number from first.\"\"\"\n",
    "    return a - b"
   ]
  },
  {
   "cell_type": "code",
   "execution_count": null,
   "id": "de92e6e2",
   "metadata": {},
   "outputs": [],
   "source": [
    "# Code the Parsons problem.\n",
    "# Create and initialize variable `x` and\n",
    "x = 2\n",
    "y = 3\n",
    "# Write the call given in the problem and assign it to `result`.\n",
    "result = square(x + sub(square(y), 2 * x))\n",
    "# Print the result.\n",
    "print(result)"
   ]
  }
 ],
 "metadata": {
  "jupytext": {
   "cell_metadata_filter": "-all",
   "main_language": "python",
   "notebook_metadata_filter": "-all"
  },
  "kernelspec": {
   "display_name": "instruction-notebook-lDGMCnlp-py3.13",
   "language": "python",
   "name": "python3"
  },
  "language_info": {
   "codemirror_mode": {
    "name": "ipython",
    "version": 3
   },
   "file_extension": ".py",
   "mimetype": "text/x-python",
   "name": "python",
   "nbconvert_exporter": "python",
   "pygments_lexer": "ipython3",
   "version": "3.13.3"
  }
 },
 "nbformat": 4,
 "nbformat_minor": 5
}

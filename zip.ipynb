{
 "cells": [
  {
   "attachments": {},
   "cell_type": "markdown",
   "id": "b73f83f5",
   "metadata": {
    "slideshow": {
     "slide_type": "slide"
    }
   },
   "source": [
    "# Use `zip` To Combine iterables\n",
    "\n",
    "- `zip` is built-in into Python \n",
    "- `Takes 2 or more **iterables** and returns an **iterator**\n",
    "- `zip` **iterator** allows us to get one tuple at a time\n",
    "- Tuple elements correspond to elements in the **iterable** arguments that are at the same index"
   ]
  },
  {
   "attachments": {},
   "cell_type": "markdown",
   "id": "2f2fdc3e",
   "metadata": {},
   "source": [
    "Call `zip()` with two **iterable** arguments to return an **iterator** of tuples."
   ]
  },
  {
   "cell_type": "code",
   "execution_count": null,
   "id": "d08d025f",
   "metadata": {
    "lines_to_next_cell": 2
   },
   "outputs": [],
   "source": [
    "days = [\"Mon\", \"Tue\"] # 1st iterable\n",
    "courses = [[\"Math\", \"Bio\"], [\"Eng\"]] # 2nd iterable\n",
    "my_schedule = zip(days, courses)"
   ]
  },
  {
   "cell_type": "markdown",
   "id": "e18712b1",
   "metadata": {},
   "source": [
    "Loop over the iterable to get each element."
   ]
  },
  {
   "cell_type": "code",
   "execution_count": null,
   "id": "3bd5ead5",
   "metadata": {},
   "outputs": [],
   "source": [
    "for day_schedule in my_schedule:\n",
    "    print(day_schedule)"
   ]
  },
  {
   "attachments": {},
   "cell_type": "markdown",
   "id": "0cf72039",
   "metadata": {},
   "source": [
    "Show the output of the `zip` function as a list."
   ]
  },
  {
   "cell_type": "code",
   "execution_count": null,
   "id": "1126ecb2",
   "metadata": {},
   "outputs": [],
   "source": [
    "# Convert `zip` object to `list` object\n",
    "my_schedule_list = list(zip(days, courses))\n",
    "my_schedule_list"
   ]
  },
  {
   "cell_type": "markdown",
   "id": "1cb5519b",
   "metadata": {},
   "source": [
    "Show the output of the `zip` function as a dictionary."
   ]
  },
  {
   "cell_type": "code",
   "execution_count": null,
   "id": "18f4e533",
   "metadata": {},
   "outputs": [],
   "source": [
    "# Convert `zip` object to `dict` object\n",
    "my_schedule_dict = dict(zip(days, courses))\n",
    "my_schedule_dict"
   ]
  }
 ],
 "metadata": {
  "jupytext": {
   "cell_metadata_filter": "-all",
   "main_language": "python",
   "notebook_metadata_filter": "-all"
  },
  "kernelspec": {
   "display_name": "instruction-notebook-lDGMCnlp-py3.13",
   "language": "python",
   "name": "python3"
  },
  "language_info": {
   "codemirror_mode": {
    "name": "ipython",
    "version": 3
   },
   "file_extension": ".py",
   "mimetype": "text/x-python",
   "name": "python",
   "nbconvert_exporter": "python",
   "pygments_lexer": "ipython3",
   "version": "3.13.3"
  }
 },
 "nbformat": 4,
 "nbformat_minor": 5
}

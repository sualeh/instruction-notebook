{
 "cells": [
  {
   "attachments": {},
   "cell_type": "markdown",
   "id": "98304b49",
   "metadata": {},
   "source": [
    "# Positional, Keyword, and Optional Parameters"
   ]
  },
  {
   "attachments": {},
   "cell_type": "markdown",
   "id": "01acc63f",
   "metadata": {},
   "source": [
    "## Keyword Parameters"
   ]
  },
  {
   "attachments": {},
   "cell_type": "markdown",
   "id": "3ccea725",
   "metadata": {},
   "source": [
    "Define a function that takes keyword parameters."
   ]
  },
  {
   "cell_type": "code",
   "execution_count": null,
   "id": "a6594ebf",
   "metadata": {},
   "outputs": [],
   "source": [
    "def divide_or_halve(dividend: int, dividor: int = 2) -> float:\n",
    "    return float(dividend) / dividor"
   ]
  },
  {
   "attachments": {},
   "cell_type": "markdown",
   "id": "4a03ad52",
   "metadata": {},
   "source": [
    "Call it positionally and with keyword arguments, and with defaults."
   ]
  },
  {
   "cell_type": "code",
   "execution_count": null,
   "id": "18b5b723",
   "metadata": {},
   "outputs": [],
   "source": [
    "print(divide_or_halve(6, 3))  # positional\n",
    "print(divide_or_halve(dividor=5, dividend=10))  # keyword\n",
    "print(divide_or_halve(4))  # using defaults"
   ]
  },
  {
   "attachments": {},
   "cell_type": "markdown",
   "id": "787eb521",
   "metadata": {},
   "source": [
    "# Optional Parameters"
   ]
  },
  {
   "attachments": {},
   "cell_type": "markdown",
   "id": "ed75a77b",
   "metadata": {},
   "source": [
    "Define a function that takes optional parameters."
   ]
  },
  {
   "cell_type": "code",
   "execution_count": null,
   "id": "0b337f65",
   "metadata": {},
   "outputs": [],
   "source": [
    "def multiply(*nums: int) -> int:\n",
    "    if not nums:\n",
    "        raise ValueError(\"No numbers to multiply\")\n",
    "    product = 1\n",
    "    for num in nums:\n",
    "        product = product * num\n",
    "    return product"
   ]
  },
  {
   "attachments": {},
   "cell_type": "markdown",
   "id": "baf55a49",
   "metadata": {},
   "source": [
    "Call with optional parameters and without."
   ]
  },
  {
   "cell_type": "code",
   "execution_count": null,
   "id": "c76d4e1f",
   "metadata": {},
   "outputs": [],
   "source": [
    "print(multiply(3, 5, 8, 9, 10))\n",
    "print(multiply(10))\n",
    "try:\n",
    "    print(multiply())\n",
    "except ValueError as val_err:\n",
    "    print(val_err)"
   ]
  },
  {
   "attachments": {},
   "cell_type": "markdown",
   "id": "b71c0cef",
   "metadata": {},
   "source": [
    "## Arbitrary Keyword Parameters"
   ]
  },
  {
   "attachments": {},
   "cell_type": "markdown",
   "id": "27b58ea3",
   "metadata": {},
   "source": [
    "Define a function with arbitrary keyword parameters."
   ]
  },
  {
   "cell_type": "code",
   "execution_count": null,
   "id": "5ac7f410",
   "metadata": {},
   "outputs": [],
   "source": [
    "def fruit_qty(some_fruit: str, **basket) -> int:\n",
    "    if not basket:\n",
    "        raise ValueError(\"No basket\")\n",
    "    if some_fruit not in basket:\n",
    "        raise KeyError(some_fruit)\n",
    "    return basket[some_fruit]"
   ]
  },
  {
   "attachments": {},
   "cell_type": "markdown",
   "id": "2795f4ef",
   "metadata": {},
   "source": [
    "Call function with arbitrary keyword parameters."
   ]
  },
  {
   "cell_type": "code",
   "execution_count": null,
   "id": "6781a619",
   "metadata": {},
   "outputs": [],
   "source": [
    "print(fruit_qty(\"oranges\", nuts=2, oranges=3))\n",
    "\n",
    "try:\n",
    "    fruit_qty(\"apples\", nuts=2, oranges=3)\n",
    "except KeyError as key_err:\n",
    "    print(key_err)\n",
    "\n",
    "try:\n",
    "    fruit_qty(\"apples\")\n",
    "except ValueError as val_err:\n",
    "    print(val_err)"
   ]
  }
 ],
 "metadata": {
  "jupytext": {
   "cell_metadata_filter": "-all",
   "main_language": "python",
   "notebook_metadata_filter": "-all"
  },
  "kernelspec": {
   "display_name": "instruction-notebook-lDGMCnlp-py3.13",
   "language": "python",
   "name": "python3"
  },
  "language_info": {
   "codemirror_mode": {
    "name": "ipython",
    "version": 3
   },
   "file_extension": ".py",
   "mimetype": "text/x-python",
   "name": "python",
   "nbconvert_exporter": "python",
   "pygments_lexer": "ipython3",
   "version": "3.13.3"
  }
 },
 "nbformat": 4,
 "nbformat_minor": 5
}

{
 "cells": [
  {
   "attachments": {},
   "cell_type": "markdown",
   "id": "2dc0cf87",
   "metadata": {},
   "source": [
    "# Class Definitions"
   ]
  },
  {
   "attachments": {},
   "cell_type": "markdown",
   "id": "0e7faf97",
   "metadata": {},
   "source": [
    "## Class Point\n",
    "\n",
    "Define class `Point`"
   ]
  },
  {
   "cell_type": "code",
   "execution_count": null,
   "id": "f9d9b15f",
   "metadata": {},
   "outputs": [],
   "source": [
    "from math import sqrt\n",
    "\n",
    "class Point:\n",
    "    \"\"\"\n",
    "    Represent a Cartesian point.\n",
    "    Insatnce variables: self.x and self.y of type int\n",
    "    \"\"\"\n",
    "    def __init__(self, init_x: int, init_y: int):\n",
    "      \"\"\"\n",
    "      Construct a Point object from paraemter coordinates\n",
    "      \"\"\"\n",
    "      self.x = init_x\n",
    "      self.y = init_y\n",
    "\n",
    "    def x_coordinate(self) -> int:\n",
    "      \"\"\"\n",
    "      Get the self.x coordinate (\"getter\" instance method)\n",
    "      \"\"\"\n",
    "      return self.x\n",
    "\n",
    "    def y_coordinate(self):\n",
    "      \"\"\"\n",
    "      Get the self.y coordinate\n",
    "      \"\"\"\n",
    "      return self.y\n",
    "\n",
    "    def distance_from_origin(self) -> float:\n",
    "      \"\"\"\n",
    "      Compute and return distance from origin using Pytagorean theorem\n",
    "      \"\"\"\n",
    "      distance = sqrt((pow(self.x, 2)) + pow(self.y, 2))\n",
    "      return distance\n",
    "\n",
    "    def halfway(self, target):\n",
    "      \"\"\"\n",
    "      Compute coordinates and return Point object halfway between\n",
    "      self and target\n",
    "      \"\"\"\n",
    "      mx = (self.x + target.x) / 2\n",
    "      my = (self.y + target.y) / 2\n",
    "      return Point(mx, my)\n",
    "\n",
    "    def __str__(self):\n",
    "        return f'Point({self.x}, {self.y})'"
   ]
  },
  {
   "cell_type": "markdown",
   "id": "4a4dce3d",
   "metadata": {
    "collapsed": false
   },
   "source": [
    "## Instantiate (Create) Objects of Type `Point`"
   ]
  },
  {
   "cell_type": "code",
   "execution_count": null,
   "id": "71bc7e27",
   "metadata": {
    "collapsed": false
   },
   "outputs": [],
   "source": [
    "point1 = Point(3, 4)\n",
    "point2 = Point(5, 12)\n",
    "\n",
    "print(point1)\n",
    "print(point2)"
   ]
  },
  {
   "cell_type": "markdown",
   "id": "1234021d",
   "metadata": {
    "collapsed": false
   },
   "source": [
    "## Call Instance Method"
   ]
  },
  {
   "cell_type": "code",
   "execution_count": null,
   "id": "25900c4f",
   "metadata": {
    "lines_to_next_cell": 1
   },
   "outputs": [],
   "source": [
    "mid = point1.halfway(point2)\n",
    "# Note:\n",
    "# You would have exactly the same result if you instead wrote\n",
    "# mid = point2.halfway(point1)\n",
    "# because they are both Point objects, and the middle is the same no matter what\n",
    "\n",
    "print(mid)\n",
    "print(mid.x_coordinate())\n",
    "print(mid.y_coordinate())\n"
   ]
  }
 ],
 "metadata": {
  "jupytext": {
   "cell_metadata_filter": "-all",
   "main_language": "python",
   "notebook_metadata_filter": "-all"
  },
  "kernelspec": {
   "display_name": "instruction-notebook-lDGMCnlp-py3.13",
   "language": "python",
   "name": "python3"
  },
  "language_info": {
   "codemirror_mode": {
    "name": "ipython",
    "version": 3
   },
   "file_extension": ".py",
   "mimetype": "text/x-python",
   "name": "python",
   "nbconvert_exporter": "python",
   "pygments_lexer": "ipython3",
   "version": "3.13.3"
  }
 },
 "nbformat": 4,
 "nbformat_minor": 5
}

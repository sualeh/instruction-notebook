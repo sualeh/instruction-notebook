{
 "cells": [
  {
   "attachments": {},
   "cell_type": "markdown",
   "id": "977943a9",
   "metadata": {
    "lines_to_next_cell": 0
   },
   "source": [
    "# Working with Sets"
   ]
  },
  {
   "attachments": {},
   "cell_type": "markdown",
   "id": "c9b37efa",
   "metadata": {},
   "source": [
    "## Create a New Set"
   ]
  },
  {
   "cell_type": "markdown",
   "id": "3f6e80d0",
   "metadata": {},
   "source": [
    "Create a new set using braces."
   ]
  },
  {
   "cell_type": "code",
   "execution_count": null,
   "id": "7c7b6361",
   "metadata": {},
   "outputs": [],
   "source": [
    "# Create a set\n",
    "fruit_set = {\"apple\", \"banana\", \"cherry\"}\n",
    "print(fruit_set)"
   ]
  },
  {
   "cell_type": "markdown",
   "id": "bc467f9d",
   "metadata": {},
   "source": [
    "Confirm that sets have unique elements and duplicates are eliminated."
   ]
  },
  {
   "cell_type": "code",
   "execution_count": null,
   "id": "1fd4976a",
   "metadata": {},
   "outputs": [],
   "source": [
    "# Sets have unique values - no duplicates\n",
    "fruit_set = {\"apple\", \"banana\", \"cherry\", \"apple\"}\n",
    "print(fruit_set)"
   ]
  },
  {
   "cell_type": "markdown",
   "id": "ff5028e1",
   "metadata": {},
   "source": [
    "Also confirm that sets do not order their elements."
   ]
  },
  {
   "attachments": {},
   "cell_type": "markdown",
   "id": "a0cc7067",
   "metadata": {},
   "source": [
    "## Add to a Set"
   ]
  },
  {
   "cell_type": "code",
   "execution_count": null,
   "id": "eef72567",
   "metadata": {},
   "outputs": [],
   "source": [
    "# Create a set\n",
    "fruit_set = {\"apple\", \"banana\", \"cherry\"}\n",
    "\n",
    "# Add an element to the set\n",
    "# Order is not predictable\n",
    "fruit_set.add(\"orange\")\n",
    "print(fruit_set)"
   ]
  },
  {
   "cell_type": "code",
   "execution_count": null,
   "id": "feb5a256",
   "metadata": {},
   "outputs": [],
   "source": [
    "# Add an iterable - in this case a list\n",
    "# Order is not predictable\n",
    "tropical_fruit_list = [\"pineapple\", \"mango\", \"papaya\"]\n",
    "fruit_set.update(tropical_fruit_list)\n",
    "print(fruit_set)"
   ]
  },
  {
   "attachments": {},
   "cell_type": "markdown",
   "id": "ff9197a9",
   "metadata": {},
   "source": [
    "## Remove From a Set"
   ]
  },
  {
   "cell_type": "code",
   "execution_count": null,
   "id": "275b900d",
   "metadata": {},
   "outputs": [],
   "source": [
    "# Create a set\n",
    "fruit_set = {\"apple\", \"banana\", \"cherry\"}\n",
    "\n",
    "# Don't like bananas\n",
    "fruit_set.remove(\"banana\")\n",
    "print(fruit_set)"
   ]
  },
  {
   "attachments": {},
   "cell_type": "markdown",
   "id": "0221ea9b",
   "metadata": {},
   "source": [
    "## Possible Items in a Set"
   ]
  },
  {
   "attachments": {},
   "cell_type": "markdown",
   "id": "1c679f5c",
   "metadata": {},
   "source": [
    "Sets can have items of any type."
   ]
  },
  {
   "cell_type": "code",
   "execution_count": null,
   "id": "c063a071",
   "metadata": {},
   "outputs": [],
   "source": [
    "new_set = {1, False, \"orange\"}\n",
    "print(new_set)"
   ]
  },
  {
   "attachments": {},
   "cell_type": "markdown",
   "id": "fd8ba41f",
   "metadata": {},
   "source": [
    "But not mutable types."
   ]
  },
  {
   "cell_type": "code",
   "execution_count": null,
   "id": "e2f2ef91",
   "metadata": {},
   "outputs": [],
   "source": [
    "new_set = {1, True, \"orange\"}\n",
    "new_set.add([\"bad item\"])\n",
    "print(new_set)"
   ]
  }
 ],
 "metadata": {
  "jupytext": {
   "cell_metadata_filter": "-all",
   "main_language": "python",
   "notebook_metadata_filter": "-all"
  },
  "kernelspec": {
   "display_name": "instruction-notebook-lDGMCnlp-py3.13",
   "language": "python",
   "name": "python3"
  },
  "language_info": {
   "codemirror_mode": {
    "name": "ipython",
    "version": 3
   },
   "file_extension": ".py",
   "mimetype": "text/x-python",
   "name": "python",
   "nbconvert_exporter": "python",
   "pygments_lexer": "ipython3",
   "version": "3.13.3"
  }
 },
 "nbformat": 4,
 "nbformat_minor": 5
}

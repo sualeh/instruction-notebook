{
 "cells": [
  {
   "attachments": {},
   "cell_type": "markdown",
   "id": "977943a9",
   "metadata": {
    "lines_to_next_cell": 0
   },
   "source": [
    "# Working with Dictionaries - `setdefault`"
   ]
  },
  {
   "attachments": {},
   "cell_type": "markdown",
   "id": "c9b37efa",
   "metadata": {},
   "source": [
    "## Set Default Value for a Key"
   ]
  },
  {
   "cell_type": "markdown",
   "id": "d44a4771",
   "metadata": {},
   "source": [
    "If you try to get the value of a key in a dictionary, you may get a key error or `None`, depending on how you obtain the key. If you want to set a default value, use `setdefault`. "
   ]
  },
  {
   "cell_type": "markdown",
   "id": "adef91a7",
   "metadata": {},
   "source": [
    "Be careful when using a list-style index to get a value from a dictionary. If the key does not exist, you may get a `KeyError`. "
   ]
  },
  {
   "cell_type": "code",
   "execution_count": null,
   "id": "c7e001fd",
   "metadata": {},
   "outputs": [],
   "source": [
    "car = {}\n",
    "\n",
    "# Accessing a missing key results in a KeyError\n",
    "print(car[\"color\"])"
   ]
  },
  {
   "cell_type": "markdown",
   "id": "59141513",
   "metadata": {},
   "source": [
    "On the other hand, using the `get` method will return `None` if the key does not exist."
   ]
  },
  {
   "cell_type": "code",
   "execution_count": null,
   "id": "70311482",
   "metadata": {},
   "outputs": [],
   "source": [
    "car = {}\n",
    "\n",
    "# Accessing a missing key returns `None`\n",
    "print(car.get(\"color\"))"
   ]
  },
  {
   "cell_type": "markdown",
   "id": "e7ec0d5e",
   "metadata": {},
   "source": [
    "If you want to return a default value other than `None`, you can specify that. "
   ]
  },
  {
   "cell_type": "code",
   "execution_count": null,
   "id": "0b126481",
   "metadata": {},
   "outputs": [],
   "source": [
    "car = {}\n",
    "\n",
    "# Specify a default value to return if the key is missing\n",
    "print(car.get(\"color\", \"blue\"))"
   ]
  },
  {
   "cell_type": "markdown",
   "id": "4311ac29",
   "metadata": {},
   "source": [
    "On the other hand, you can set a global default for all subsequent calls using `setdefault`. In that case, defaults passed into `get` are ignored."
   ]
  },
  {
   "cell_type": "code",
   "execution_count": null,
   "id": "5d35f67d",
   "metadata": {},
   "outputs": [],
   "source": [
    "car = {}\n",
    "car.setdefault(\"color\", \"red\")\n",
    "\n",
    "print(car.get(\"color\"))\n",
    "print(car.get(\"color\", \"pink\"))"
   ]
  },
  {
   "cell_type": "markdown",
   "id": "10228243",
   "metadata": {},
   "source": [
    "This has no effect if the key is already in the dictionary."
   ]
  },
  {
   "cell_type": "code",
   "execution_count": null,
   "id": "fdc1a706",
   "metadata": {},
   "outputs": [],
   "source": [
    "car = {\"color\": \"orange\"}\n",
    "car.setdefault(\"color\", \"red\")\n",
    "\n",
    "print(car.get(\"color\"))"
   ]
  },
  {
   "cell_type": "markdown",
   "id": "debea209",
   "metadata": {},
   "source": [
    "## Accumulating Lists in a Dictionary\n",
    "\n",
    "`setdefault` is useful when you use the accumulation pattern to build a list, since it can reduce the code you need to write. Consider the following code, where we want to accumulate tuples of parent and child into a dictionary that has a list of children for each parent."
   ]
  },
  {
   "cell_type": "code",
   "execution_count": null,
   "id": "7c7b6361",
   "metadata": {},
   "outputs": [],
   "source": [
    "# Convert tuples of parent and child to a dictionary with parents as keys\n",
    "children = [(\"Sal\", \"John\"), (\"Mary\", \"Matt\"), (\"Sal\", \"Donna\"), (\"Mary\", \"Christina\")]"
   ]
  },
  {
   "cell_type": "code",
   "execution_count": null,
   "id": "89b56f97",
   "metadata": {},
   "outputs": [],
   "source": [
    "children_d = {}\n",
    "for parent, child in children:\n",
    "    if parent not in children_d:\n",
    "        # Key is not in the dictionary,\n",
    "        # so initialize the value to an empty list\n",
    "        children_d[parent] = []\n",
    "    children_d[parent].append(child)\n",
    "\n",
    "print(children_d)"
   ]
  },
  {
   "cell_type": "markdown",
   "id": "9467055f",
   "metadata": {},
   "source": [
    "The code above can be simplified with `setdefault`."
   ]
  },
  {
   "cell_type": "code",
   "execution_count": null,
   "id": "fa117d67",
   "metadata": {},
   "outputs": [],
   "source": [
    "children_d = {}\n",
    "for parent, child in children:\n",
    "    children_d.setdefault(parent, []).append(child)\n",
    "\n",
    "print(children_d)"
   ]
  }
 ],
 "metadata": {
  "jupytext": {
   "cell_metadata_filter": "-all",
   "main_language": "python",
   "notebook_metadata_filter": "-all"
  },
  "kernelspec": {
   "display_name": "instruction-notebook-lDGMCnlp-py3.13",
   "language": "python",
   "name": "python3"
  },
  "language_info": {
   "codemirror_mode": {
    "name": "ipython",
    "version": 3
   },
   "file_extension": ".py",
   "mimetype": "text/x-python",
   "name": "python",
   "nbconvert_exporter": "python",
   "pygments_lexer": "ipython3",
   "version": "3.13.3"
  }
 },
 "nbformat": 4,
 "nbformat_minor": 5
}

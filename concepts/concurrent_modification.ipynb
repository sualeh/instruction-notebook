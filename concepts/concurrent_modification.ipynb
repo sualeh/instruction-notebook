{
 "cells": [
  {
   "attachments": {},
   "cell_type": "markdown",
   "id": "8ab06481",
   "metadata": {
    "slideshow": {
     "slide_type": "slide"
    }
   },
   "source": [
    "# Concurrent Modification\n",
    "\n",
    "> Do **NOT** modify lists or dictionaries when iterating over them."
   ]
  },
  {
   "cell_type": "markdown",
   "id": "ccff02d8",
   "metadata": {},
   "source": [
    "Let us write code to remove all elements from a list. We iterate over the list and remove the cirrent element."
   ]
  },
  {
   "cell_type": "code",
   "execution_count": null,
   "id": "eafc22f9",
   "metadata": {},
   "outputs": [],
   "source": [
    "score_list = [11, 20, 15, 17]\n",
    "for index, score in enumerate(score_list):\n",
    "    print(f\"removing: score_list[{index}] = {score}\")\n",
    "    score_list.remove(score)\n",
    "    print(f\"{score_list} is the remaining list\")"
   ]
  },
  {
   "cell_type": "markdown",
   "id": "919d2103",
   "metadata": {},
   "source": [
    "The list has some elements left, and these are the alternate ones that we skipped over, since the list was being modified at the same time as being iterated over."
   ]
  },
  {
   "cell_type": "code",
   "execution_count": null,
   "id": "aca50bc8",
   "metadata": {},
   "outputs": [],
   "source": [
    "print(score_list)  # remaining list"
   ]
  },
  {
   "cell_type": "markdown",
   "id": "81c94801",
   "metadata": {},
   "source": [
    "The way to fix this issue to iterate elements by index. "
   ]
  },
  {
   "cell_type": "code",
   "execution_count": null,
   "id": "afab3e88",
   "metadata": {},
   "outputs": [],
   "source": [
    "score_list = [11, 20, 15, 17]\n",
    "while score_list:\n",
    "    print(f\"removing: {score_list[0]}\")\n",
    "    score_list.remove(score_list[0])\n",
    "    print(f\"{score_list} is the remaining list\")"
   ]
  },
  {
   "cell_type": "markdown",
   "id": "3ae8c540",
   "metadata": {},
   "source": [
    "We are left with an empty list."
   ]
  },
  {
   "cell_type": "code",
   "execution_count": null,
   "id": "20674970",
   "metadata": {},
   "outputs": [],
   "source": [
    "print(score_list)  # remaining list"
   ]
  }
 ],
 "metadata": {
  "jupytext": {
   "cell_metadata_filter": "-all",
   "main_language": "python",
   "notebook_metadata_filter": "-all"
  },
  "kernelspec": {
   "display_name": "instruction-notebook-lDGMCnlp-py3.13",
   "language": "python",
   "name": "python3"
  },
  "language_info": {
   "codemirror_mode": {
    "name": "ipython",
    "version": 3
   },
   "file_extension": ".py",
   "mimetype": "text/x-python",
   "name": "python",
   "nbconvert_exporter": "python",
   "pygments_lexer": "ipython3",
   "version": "3.13.3"
  }
 },
 "nbformat": 4,
 "nbformat_minor": 5
}

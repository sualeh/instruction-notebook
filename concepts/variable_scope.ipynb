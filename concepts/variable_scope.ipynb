{
 "cells": [
  {
   "cell_type": "markdown",
   "id": "7f97e8c2",
   "metadata": {},
   "source": [
    "# Variable Scope"
   ]
  },
  {
   "attachments": {},
   "cell_type": "markdown",
   "id": "0396f067",
   "metadata": {},
   "source": [
    "## Local Variable Scope"
   ]
  },
  {
   "cell_type": "code",
   "execution_count": null,
   "id": "3f549827",
   "metadata": {},
   "outputs": [],
   "source": [
    "def greet_with_local_message():\n",
    "    # Define local variable\n",
    "    local_message = \"Hello\"\n",
    "    # Use inside function\n",
    "    print(\"From inside function:\", local_message)"
   ]
  },
  {
   "cell_type": "code",
   "execution_count": null,
   "id": "35218e4a",
   "metadata": {},
   "outputs": [],
   "source": [
    "greet_with_local_message()\n",
    "# Cannot access local variable `local_message` outside function\n",
    "print(\"From outside function:\", local_message)\n"
   ]
  },
  {
   "cell_type": "markdown",
   "id": "72189d8f",
   "metadata": {},
   "source": [
    "# Global Variable Scope"
   ]
  },
  {
   "cell_type": "code",
   "execution_count": null,
   "id": "5e187df7",
   "metadata": {},
   "outputs": [],
   "source": [
    "# Declare global variable, outside any function or class definition\n",
    "global_message = \"Hello\""
   ]
  },
  {
   "cell_type": "code",
   "execution_count": null,
   "id": "fce3b82b",
   "metadata": {},
   "outputs": [],
   "source": [
    "def greet_with_global_message():\n",
    "    # Declare local variable\n",
    "    print(\"From inside function:\", global_message)"
   ]
  },
  {
   "cell_type": "code",
   "execution_count": null,
   "id": "8ec6509e",
   "metadata": {},
   "outputs": [],
   "source": [
    "greet_with_global_message()\n",
    "print(\"From outside function:\", global_message)\n"
   ]
  }
 ],
 "metadata": {
  "jupytext": {
   "cell_metadata_filter": "-all",
   "main_language": "python",
   "notebook_metadata_filter": "-all"
  },
  "kernelspec": {
   "display_name": "instruction-notebook-lDGMCnlp-py3.13",
   "language": "python",
   "name": "python3"
  },
  "language_info": {
   "codemirror_mode": {
    "name": "ipython",
    "version": 3
   },
   "file_extension": ".py",
   "mimetype": "text/x-python",
   "name": "python",
   "nbconvert_exporter": "python",
   "pygments_lexer": "ipython3",
   "version": "3.13.3"
  }
 },
 "nbformat": 4,
 "nbformat_minor": 5
}

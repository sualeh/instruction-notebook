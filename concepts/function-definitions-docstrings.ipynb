{
 "cells": [
  {
   "attachments": {},
   "cell_type": "markdown",
   "id": "91531191",
   "metadata": {},
   "source": [
    "# Define a Function and Run It"
   ]
  },
  {
   "cell_type": "markdown",
   "id": "45e3da7c",
   "metadata": {},
   "source": [
    "## Define a Function\n",
    "\n",
    "Define a function with the following components:\n",
    "* function header \n",
    "* function docstring\n",
    "* function body\n",
    "* return statement"
   ]
  },
  {
   "cell_type": "code",
   "execution_count": null,
   "id": "81bda0b1",
   "metadata": {},
   "outputs": [],
   "source": [
    "def increment(operand: int) -> int:\n",
    "  \"\"\"\n",
    "  Add 1 to operand and return the result.\n",
    "\n",
    "  Parameters:\n",
    "      operand (int): The number to increment.\n",
    "\n",
    "  Returns:\n",
    "      int: The incremented value (operand + 1).\n",
    "  \"\"\"\n",
    "  increased = operand + 1\n",
    "  return increased"
   ]
  },
  {
   "attachments": {},
   "cell_type": "markdown",
   "id": "792a7379",
   "metadata": {},
   "source": [
    "## Run Function\n",
    "* Call function with argument `2`\n",
    "* Assign return value from call to variable `return_value`"
   ]
  },
  {
   "cell_type": "code",
   "execution_count": null,
   "id": "d7de0822",
   "metadata": {
    "lines_to_next_cell": 2
   },
   "outputs": [],
   "source": [
    "return_value = increment(2)"
   ]
  },
  {
   "cell_type": "markdown",
   "id": "eb096c72",
   "metadata": {},
   "source": [
    "* Output value of `return_value`"
   ]
  },
  {
   "cell_type": "code",
   "execution_count": null,
   "id": "d7b32472",
   "metadata": {},
   "outputs": [],
   "source": [
    "return_value"
   ]
  },
  {
   "cell_type": "markdown",
   "id": "f2919dbc",
   "metadata": {},
   "source": [
    "## docstring Example\n",
    "\n",
    "Good docstrings have enough detail to explain the function's purpose and how to use it."
   ]
  },
  {
   "cell_type": "code",
   "execution_count": null,
   "id": "4c9c4921",
   "metadata": {},
   "outputs": [],
   "source": [
    "def english_style_title(sentence: str) -> str:\n",
    "    \"\"\"Capitalize a title based on English capitalization rules.\n",
    "\n",
    "    English has some rules about how to capitalize words in a title.\n",
    "    The following rules are applied:\n",
    "    1. Capitalize all words, except\n",
    "    2. Do not capitalize conjunctions (and, but, for, nor, or, so, yet)\n",
    "    3. Do not capitalize articles (a, an, the)\n",
    "    4. Do not capitalize prepositions (in, at, on, of, to)\n",
    "    5. Always capitalize the first word\n",
    "\n",
    "    For more details on English title case rules, see: https://titlecaseconverter.com/rules/\n",
    "\n",
    "    Args:\n",
    "        sentence (str): String of words separated by blank characters\n",
    "\n",
    "    Returns:\n",
    "        str: Sentence as a title, capitalized according to English rules\n",
    "\n",
    "    Examples:\n",
    "        >>> english_style_title('a happy birthday to you and him')\n",
    "        'A Happy Birthday to You and Him'\n",
    "    \"\"\"\n",
    "    # Add your function implementation here"
   ]
  }
 ],
 "metadata": {
  "jupytext": {
   "cell_metadata_filter": "-all",
   "main_language": "python",
   "notebook_metadata_filter": "-all"
  },
  "kernelspec": {
   "display_name": "venv",
   "language": "python",
   "name": "python3"
  },
  "language_info": {
   "codemirror_mode": {
    "name": "ipython",
    "version": 3
   },
   "file_extension": ".py",
   "mimetype": "text/x-python",
   "name": "python",
   "nbconvert_exporter": "python",
   "pygments_lexer": "ipython3",
   "version": "3.11.1"
  }
 },
 "nbformat": 4,
 "nbformat_minor": 5
}

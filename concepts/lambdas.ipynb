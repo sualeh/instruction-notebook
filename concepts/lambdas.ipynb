{
 "cells": [
  {
   "attachments": {},
   "cell_type": "markdown",
   "id": "977943a9",
   "metadata": {
    "lines_to_next_cell": 0
   },
   "source": [
    "# Lambda Functions"
   ]
  },
  {
   "cell_type": "markdown",
   "id": "b65e44b7",
   "metadata": {},
   "source": [
    "A Python lambda function is a concise way to define a function. Lambdas can be passed in to other functions that need to perform operations."
   ]
  },
  {
   "cell_type": "markdown",
   "id": "16232fb4",
   "metadata": {},
   "source": [
    "## Lambda Function Definition"
   ]
  },
  {
   "cell_type": "code",
   "execution_count": null,
   "id": "e1f600c5",
   "metadata": {},
   "outputs": [],
   "source": [
    "# Simple example of a lambda\n",
    "add10 = lambda a : a + 10\n",
    "\n",
    "print(add10(5))"
   ]
  },
  {
   "cell_type": "markdown",
   "id": "3d601c91",
   "metadata": {},
   "source": [
    "## Calculator\n",
    "\n",
    "An example of how a lambda is passed as an argument to a function is in a calculator."
   ]
  },
  {
   "cell_type": "code",
   "execution_count": null,
   "id": "c68cb6ee",
   "metadata": {},
   "outputs": [],
   "source": [
    "def calculate(operation, operand1, operand2):\n",
    "    return operation(operand1, operand2)\n",
    "\n",
    "print(calculate(lambda a, b: a + b, 10, 5))\n",
    "print(calculate(lambda a, b: a / b, 10, 5))"
   ]
  },
  {
   "cell_type": "markdown",
   "id": "07d9f1cb",
   "metadata": {},
   "source": [
    "## Sorting Nested Structures\n",
    "\n",
    "A more complicated example of using lambdas is with the `sorted` built-in function. Sorted takes an iterable, and a lambda that can identify what the \"sort key\" or value to sort by will be. For example, if you have a list of dictionaries of temperatures in cities, and want to sort by the hottest temperature, you can write a lambda to identify the temperature as the sort key."
   ]
  },
  {
   "cell_type": "code",
   "execution_count": null,
   "id": "c51dcd5d",
   "metadata": {},
   "outputs": [],
   "source": [
    "locations = [{\"city\": \"Boston\", \"avg_temp\": 52}, {\"city\": \"NYC\", \"avg_temp\": 55}]\n",
    "\n",
    "print(locations)\n",
    "\n",
    "hottest_locations = sorted(locations, key=lambda x: x[\"avg_temp\"], reverse=True)\n",
    "print(hottest_locations)"
   ]
  },
  {
   "cell_type": "markdown",
   "id": "0917ca57",
   "metadata": {},
   "source": [
    "Notice the lambda, `lambda x: x[\"avg_temp\"]` which identifies that sort key of average temperature. \n",
    "- `x` represents a dictionary like `{\"city\": \"Boston\", \"avg_temp\": 53.7}`\n",
    "- So, `x[\"avg_temp\"]` will be 53.7, which is the sort key"
   ]
  }
 ],
 "metadata": {
  "jupytext": {
   "cell_metadata_filter": "-all",
   "main_language": "python",
   "notebook_metadata_filter": "-all"
  },
  "kernelspec": {
   "display_name": "instruction-notebook-lDGMCnlp-py3.13",
   "language": "python",
   "name": "python3"
  },
  "language_info": {
   "codemirror_mode": {
    "name": "ipython",
    "version": 3
   },
   "file_extension": ".py",
   "mimetype": "text/x-python",
   "name": "python",
   "nbconvert_exporter": "python",
   "pygments_lexer": "ipython3",
   "version": "3.13.3"
  }
 },
 "nbformat": 4,
 "nbformat_minor": 5
}

{
 "cells": [
  {
   "attachments": {},
   "cell_type": "markdown",
   "id": "4653db86",
   "metadata": {},
   "source": [
    "# f-strings\n",
    "\n",
    "F-strings (formatted string literals) are prefixed with an `f` and allow you to include Python expressions inside curly braces `{}` which will be evaluated at runtime."
   ]
  },
  {
   "cell_type": "markdown",
   "id": "6433b88c",
   "metadata": {},
   "source": [
    "## Examples\n",
    "\n",
    "Set up some variables to use in the f-string examples:"
   ]
  },
  {
   "cell_type": "code",
   "execution_count": null,
   "id": "ca5af8ed",
   "metadata": {},
   "outputs": [],
   "source": [
    "x = 2\n",
    "y = 3\n",
    "result = x + y"
   ]
  },
  {
   "cell_type": "markdown",
   "id": "10c05e34",
   "metadata": {},
   "source": [
    "Example: single line"
   ]
  },
  {
   "cell_type": "code",
   "execution_count": null,
   "id": "dbce0351",
   "metadata": {},
   "outputs": [],
   "source": [
    "f'result is {result}'"
   ]
  },
  {
   "cell_type": "markdown",
   "id": "a14a5993",
   "metadata": {
    "collapsed": false
   },
   "source": [
    "Example: multiple lines"
   ]
  },
  {
   "cell_type": "code",
   "execution_count": null,
   "id": "bcd40db4",
   "metadata": {
    "collapsed": false
   },
   "outputs": [],
   "source": [
    "print(\n",
    "  f\"\"\"\n",
    "  the sum is {result}\n",
    "  for x = {x} and y = {y}\n",
    "  \"\"\"\n",
    ")"
   ]
  },
  {
   "cell_type": "markdown",
   "id": "745645b5",
   "metadata": {},
   "source": [
    "Example: Calling functions in f-strings"
   ]
  },
  {
   "cell_type": "code",
   "execution_count": null,
   "id": "29626ed7",
   "metadata": {},
   "outputs": [],
   "source": [
    "def check_length(text: str, size: int) -> bool:\n",
    "    \"\"\"\n",
    "    Checks length of `text` against `size`.\n",
    "    \"\"\"\n",
    "    if text is None:\n",
    "        return False\n",
    "    length_matches = len(text) == size\n",
    "    return length_matches"
   ]
  },
  {
   "cell_type": "code",
   "execution_count": null,
   "id": "2cac77ce",
   "metadata": {},
   "outputs": [
    {
     "name": "stdout",
     "output_type": "stream",
     "text": [
      "Henry\n",
      "{name}\n",
      "Henry\n",
      "My name is Henry\n",
      "check_length('hello', 2) = False\n",
      "check_length('to', 2) = True\n"
     ]
    }
   ],
   "source": [
    "name = \"Henry\"\n",
    "print(f\"{name}\")\n",
    "print(\"{name}\")\n",
    "print(name)\n",
    "print(f\"My name is {name}\")\n",
    "print(f\"check_length('hello', 2) = {check_length('hello', 2)}\")\n",
    "print(f\"check_length('to', 2) = {check_length('to', 2)}\")\n"
   ]
  }
 ],
 "metadata": {
  "jupytext": {
   "cell_metadata_filter": "-all",
   "main_language": "python",
   "notebook_metadata_filter": "-all"
  },
  "kernelspec": {
   "display_name": "Python 3",
   "language": "python",
   "name": "python3"
  },
  "language_info": {
   "codemirror_mode": {
    "name": "ipython",
    "version": 3
   },
   "file_extension": ".py",
   "mimetype": "text/x-python",
   "name": "python",
   "nbconvert_exporter": "python",
   "pygments_lexer": "ipython3",
   "version": "3.13.3"
  }
 },
 "nbformat": 4,
 "nbformat_minor": 5
}

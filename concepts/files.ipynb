{
 "cells": [
  {
   "cell_type": "markdown",
   "metadata": {},
   "source": [
    "## Reading and Writing Text Files"
   ]
  },
  {
   "cell_type": "markdown",
   "metadata": {},
   "source": [
    "Open a file for writing, and write 3 lines to it. Verify that they got wirtten by opening the file to view the contents."
   ]
  },
  {
   "cell_type": "code",
   "execution_count": null,
   "metadata": {},
   "outputs": [],
   "source": [
    "fname = 'my_file.txt'\n",
    "with open(fname, 'w') as fout:          # step 1: open the file for writing\n",
    "    for line in range(1, 4):            # step 2: write 3 lines to the file\n",
    "        fout.write(f\"line #{line}\\n\")   # step 4: write content to the file"
   ]
  },
  {
   "cell_type": "markdown",
   "metadata": {},
   "source": [
    "Read all lines into a list of strings. The file is closed after reading, since we have got all the data from it."
   ]
  },
  {
   "cell_type": "code",
   "execution_count": null,
   "metadata": {},
   "outputs": [],
   "source": [
    "fname = 'my_file.txt'\n",
    "with open(fname, 'r') as fin: # step 1: open the file for reading\n",
    "    lines = fin.readlines()   # step 2: get a list of all the lines in the files in `lines`\n",
    "\n",
    "for a_line in lines:          # step 3: iterate over `lines` with loop variable `a_line`\n",
    "    print(a_line, end=\"\")     # step 4: do some processing of `a_line`"
   ]
  },
  {
   "cell_type": "markdown",
   "metadata": {},
   "source": [
    "Read one line at a time and process it. The file is kept open while reading it, since we process one line before reading the next one."
   ]
  },
  {
   "cell_type": "code",
   "execution_count": null,
   "metadata": {},
   "outputs": [],
   "source": [
    "fname = 'my_file.txt'\n",
    "with open(fname, 'r') as fin:   # step 1: open the file for reading\n",
    "    for a_line in fin:          # step 2: iterate over `fin` with loop variable `a_line`\n",
    "        print(a_line, end=\"\")   # step 3: do some processing of `a_line`"
   ]
  }
 ],
 "metadata": {
  "kernelspec": {
   "display_name": "instruction-notebook-lDGMCnlp-py3.13",
   "language": "python",
   "name": "python3"
  },
  "language_info": {
   "codemirror_mode": {
    "name": "ipython",
    "version": 3
   },
   "file_extension": ".py",
   "mimetype": "text/x-python",
   "name": "python",
   "nbconvert_exporter": "python",
   "pygments_lexer": "ipython3",
   "version": "3.13.3"
  }
 },
 "nbformat": 4,
 "nbformat_minor": 2
}

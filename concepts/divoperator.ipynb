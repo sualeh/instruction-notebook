{
 "cells": [
  {
   "attachments": {},
   "cell_type": "markdown",
   "id": "0a39af84",
   "metadata": {},
   "source": [
    "# Division Operator"
   ]
  },
  {
   "attachments": {},
   "cell_type": "markdown",
   "id": "98989185",
   "metadata": {},
   "source": [
    "## Question 1: Integer Division Operator\n",
    "\n",
    "> Section 2.15, csp-10-2-2\n",
    "\n",
    "What is the value of `15 // 12`?\n",
    "\n",
    "1. 1\n",
    "2. 1.25\n",
    "3. 1.5\n",
    "4. 3"
   ]
  },
  {
   "cell_type": "code",
   "execution_count": null,
   "id": "e4c39005",
   "metadata": {
    "lines_to_next_cell": 2,
    "pycharm": {
     "is_executing": true
    }
   },
   "outputs": [],
   "source": [
    "15 // 12"
   ]
  },
  {
   "attachments": {},
   "cell_type": "markdown",
   "id": "4fa1497b",
   "metadata": {},
   "source": [
    "and this?"
   ]
  },
  {
   "cell_type": "code",
   "execution_count": null,
   "id": "02cf9551",
   "metadata": {
    "pycharm": {
     "is_executing": true
    }
   },
   "outputs": [],
   "source": [
    "18 // 4.0"
   ]
  }
 ],
 "metadata": {
  "jupytext": {
   "cell_metadata_filter": "-all",
   "main_language": "python",
   "notebook_metadata_filter": "-all"
  },
  "kernelspec": {
   "display_name": "instruction-notebook-lDGMCnlp-py3.13",
   "language": "python",
   "name": "python3"
  },
  "language_info": {
   "codemirror_mode": {
    "name": "ipython",
    "version": 3
   },
   "file_extension": ".py",
   "mimetype": "text/x-python",
   "name": "python",
   "nbconvert_exporter": "python",
   "pygments_lexer": "ipython3",
   "version": "3.13.3"
  }
 },
 "nbformat": 4,
 "nbformat_minor": 5
}

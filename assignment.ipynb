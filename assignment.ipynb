{
 "cells": [
  {
   "attachments": {},
   "cell_type": "markdown",
   "id": "0a39af84",
   "metadata": {},
   "source": [
    "# Assignment"
   ]
  },
  {
   "attachments": {},
   "cell_type": "markdown",
   "id": "9d853244",
   "metadata": {},
   "source": [
    "## Question 1: Assignment\n",
    "\n",
    "> Section 2.15, csp-10-2-5\n",
    "\n",
    "What is the value of `day` after the execution of the following assignment statements?\n"
   ]
  },
  {
   "cell_type": "code",
   "execution_count": null,
   "id": "2eaa8ffd",
   "metadata": {
    "pycharm": {
     "is_executing": true
    }
   },
   "outputs": [],
   "source": [
    "day = \"Thursday\"\n",
    "day = 32.5\n",
    "day = 19"
   ]
  },
  {
   "attachments": {},
   "cell_type": "markdown",
   "id": "d65fc80b",
   "metadata": {},
   "source": [
    "1. Nothing is printed. A runtime error occurs.\n",
    "2. Thursday\n",
    "3. 32.5\n",
    "4. 19"
   ]
  },
  {
   "cell_type": "code",
   "execution_count": null,
   "id": "4de2629f",
   "metadata": {},
   "outputs": [],
   "source": [
    "day"
   ]
  }
 ],
 "metadata": {
  "jupytext": {
   "cell_metadata_filter": "-all",
   "main_language": "python",
   "notebook_metadata_filter": "-all"
  },
  "kernelspec": {
   "display_name": "instruction-notebook-lDGMCnlp-py3.13",
   "language": "python",
   "name": "python3"
  },
  "language_info": {
   "codemirror_mode": {
    "name": "ipython",
    "version": 3
   },
   "file_extension": ".py",
   "mimetype": "text/x-python",
   "name": "python",
   "nbconvert_exporter": "python",
   "pygments_lexer": "ipython3",
   "version": "3.13.3"
  }
 },
 "nbformat": 4,
 "nbformat_minor": 5
}

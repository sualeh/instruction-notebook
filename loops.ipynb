{
 "cells": [
  {
   "attachments": {},
   "cell_type": "markdown",
   "id": "ce4dcd18",
   "metadata": {},
   "source": [
    "# Loops"
   ]
  },
  {
   "attachments": {},
   "cell_type": "markdown",
   "id": "48bc124b",
   "metadata": {},
   "source": [
    "## For Loop Example"
   ]
  },
  {
   "cell_type": "markdown",
   "metadata": {
    "collapsed": false
   },
   "source": [
    "**Problem**: Define a list of prices (decimal numbers) and assign it to variable `item_prices`.\n",
    "Use the **accumulation pattern** to find and store in the `bill amount` variable the total number of prices in `item_prices`.\n",
    "\n",
    "**Design**\n",
    "* Go through the **iterable** (collection of things) `item_prices`\n",
    "* Use the **iterator** `price` that points to each element in the iterable\n",
    "    * At each iteration (or pass through the collection), **accumulate a partial result** in the **accumulator**`bill_amount`."
   ]
  },
  {
   "cell_type": "code",
   "execution_count": null,
   "id": "6c7f9a72",
   "metadata": {},
   "outputs": [],
   "source": [
    "item_prices = [3.56, 2.53, 8.92]\n",
    "bill_amount = 0.0\n",
    "for price in item_prices:\n",
    "  bill_amount = bill_amount + price\n",
    "  print(f\"Current price is {price}, bill amount is {bill_amount}\")"
   ]
  },
  {
   "cell_type": "markdown",
   "id": "fa9f747b",
   "metadata": {},
   "source": [
    "See the value of the accumulator variable:"
   ]
  },
  {
   "cell_type": "code",
   "execution_count": null,
   "metadata": {
    "collapsed": false
   },
   "outputs": [],
   "source": [
    "bill_amount"
   ]
  },
  {
   "cell_type": "markdown",
   "metadata": {
    "collapsed": false
   },
   "source": [
    "## While Loop Example"
   ]
  },
  {
   "cell_type": "markdown",
   "metadata": {
    "collapsed": false
   },
   "source": [
    "The loop written with a `for` statement can be written with a `while` statement.\n",
    "We say that `for` and `while` statements are equivalent.\n",
    "However, we see that the `for` statement is more appropriate for processing collections that are known in advance."
   ]
  },
  {
   "cell_type": "code",
   "execution_count": null,
   "id": "da87b550",
   "metadata": {},
   "outputs": [],
   "source": [
    "item_prices = [3, 2, 8]\n",
    "bill_amount = 0.0\n",
    "idx = 0\n",
    "while idx < len(item_prices):\n",
    "  bill_amount = bill_amount + item_prices[idx]\n",
    "  print(f\"At index {idx}, bill amount is {bill_amount}\")\n",
    "  idx = idx + 1"
   ]
  },
  {
   "cell_type": "markdown",
   "id": "4ad04c5f",
   "metadata": {},
   "source": [
    "See the value of the accumulator variable:"
   ]
  },
  {
   "cell_type": "code",
   "execution_count": null,
   "id": "ac864987",
   "metadata": {},
   "outputs": [],
   "source": [
    "bill_amount"
   ]
  },
  {
   "cell_type": "markdown",
   "metadata": {
    "collapsed": false
   },
   "source": [
    "`while` is the appropriate choice when we don't know in advance the number of iterations through the loop.\n",
    "A typical example is reading from standard input until a special input value stops the loop."
   ]
  },
  {
   "cell_type": "code",
   "execution_count": null,
   "metadata": {
    "collapsed": false
   },
   "outputs": [],
   "source": [
    "price = int(input('Enter a positive integer, or 0 to stop'))\n",
    "bill_amount = 0.0\n",
    "while price != 0:\n",
    "  bill_amount += price\n",
    "  price = int(input('Enter a positive integer, or 0 to stop'))"
   ]
  },
  {
   "cell_type": "markdown",
   "id": "1f5c7b5c",
   "metadata": {},
   "source": [
    "See the value of the accumulator variable:"
   ]
  },
  {
   "cell_type": "code",
   "execution_count": null,
   "metadata": {
    "collapsed": false
   },
   "outputs": [],
   "source": [
    "bill_amount"
   ]
  },
  {
   "cell_type": "markdown",
   "id": "ede2c748",
   "metadata": {},
   "source": [
    "## Question 1: Iteration\n",
    "\n",
    "> Section 7.4, 11-9-5\n",
    "\n",
    "How many times is the word HELLO printed by the following statements?"
   ]
  },
  {
   "cell_type": "markdown",
   "id": "9d794090",
   "metadata": {},
   "source": [
    "1. 10\n",
    "2. 11\n",
    "3. 12\n",
    "4. Error, the for statement needs to use the range function."
   ]
  },
  {
   "cell_type": "code",
   "execution_count": null,
   "id": "0233ca37",
   "metadata": {},
   "outputs": [],
   "source": [
    "s = \"python rocks\"\n",
    "for ch in s:\n",
    "    print(\"HELLO\")"
   ]
  }
 ],
 "metadata": {
  "jupytext": {
   "cell_metadata_filter": "-all",
   "main_language": "python",
   "notebook_metadata_filter": "-all"
  },
  "kernelspec": {
   "display_name": "venv",
   "language": "python",
   "name": "python3"
  },
  "language_info": {
   "codemirror_mode": {
    "name": "ipython",
    "version": 3
   },
   "file_extension": ".py",
   "mimetype": "text/x-python",
   "name": "python",
   "nbconvert_exporter": "python",
   "pygments_lexer": "ipython3",
   "version": "3.11.1"
  }
 },
 "nbformat": 4,
 "nbformat_minor": 5
}

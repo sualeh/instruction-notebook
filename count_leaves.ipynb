{
 "cells": [
  {
   "attachments": {},
   "cell_type": "markdown",
   "id": "9472eaf9",
   "metadata": {},
   "source": [
    "# Navigating Nested Data Structures\n",
    "\n",
    "The function `count_leaves()` returns the number of elements at the lowest level of nesting. When called with the argument\n",
    "\n",
    "`[['a', 'b', 'c'],['d', 'e'],['f', 'g', 'h']]`\n",
    "\n",
    "the function returns 8. Arrange the following code in order. (**Note:** Variable names do NOT follow the proper naming conventions.)\n",
    "\n",
    "```python\n",
    "count_leaves([['a', 'b', 'c'],['d', 'e'],['f', 'g', 'h']])\n",
    "count = count + 1\n",
    "count = 0\n",
    "for x in l:\n",
    "for l in n:\n",
    "return count\n",
    "def count_leaves(n):\n"
   ]
  },
  {
   "cell_type": "code",
   "execution_count": null,
   "id": "5037d7fb",
   "metadata": {},
   "outputs": [],
   "source": [
    "count_leaves([['a', 'b', 'c'],['d', 'e'],['f', 'g', 'h']])\n",
    "count = count + 1\n",
    "count = 0\n",
    "for x in l:\n",
    "for l in n:\n",
    "return count\n",
    "def count_leaves(n):\n"
   ]
  }
 ],
 "metadata": {
  "jupytext": {
   "cell_metadata_filter": "-all",
   "main_language": "python",
   "notebook_metadata_filter": "-all"
  },
  "kernelspec": {
   "display_name": ".venv",
   "language": "python",
   "name": "python3"
  },
  "language_info": {
   "name": "python",
   "version": "3.11.0"
  }
 },
 "nbformat": 4,
 "nbformat_minor": 5
}

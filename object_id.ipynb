{
 "cells": [
  {
   "attachments": {},
   "cell_type": "markdown",
   "id": "c01b1f13",
   "metadata": {},
   "source": [
    "## Unique Objects"
   ]
  },
  {
   "cell_type": "markdown",
   "id": "fb3a7319",
   "metadata": {},
   "source": [
    "In Python, every object has a unique identity that remains constant throughout its lifetime. The `id()` function returns this identity as an integer, which can be thought of as the lcation in computer memory where the object is stored."
   ]
  },
  {
   "attachments": {},
   "cell_type": "markdown",
   "id": "90dae78f",
   "metadata": {},
   "source": [
    "Define a method to show uniqueness of an object."
   ]
  },
  {
   "cell_type": "code",
   "execution_count": null,
   "id": "5e2af486",
   "metadata": {},
   "outputs": [],
   "source": [
    "def detailed_type(some_object):\n",
    "    return id(some_object), some_object, type(some_object)"
   ]
  },
  {
   "attachments": {},
   "cell_type": "markdown",
   "id": "a7d62ea7",
   "metadata": {},
   "source": [
    "Demonstrate object id using multiple runs."
   ]
  },
  {
   "cell_type": "code",
   "execution_count": null,
   "id": "5b458ca2",
   "metadata": {},
   "outputs": [],
   "source": [
    "detailed_type(\"Hello, World\")"
   ]
  },
  {
   "cell_type": "code",
   "execution_count": null,
   "id": "2893f8a4",
   "metadata": {},
   "outputs": [],
   "source": [
    "detailed_type(-1)"
   ]
  },
  {
   "cell_type": "code",
   "execution_count": null,
   "id": "9b1ef47a",
   "metadata": {},
   "outputs": [],
   "source": [
    "detailed_type(abs)"
   ]
  }
 ],
 "metadata": {
  "jupytext": {
   "cell_metadata_filter": "-all",
   "main_language": "python",
   "notebook_metadata_filter": "-all"
  },
  "kernelspec": {
   "display_name": "instruction-notebook-lDGMCnlp-py3.13",
   "language": "python",
   "name": "python3"
  },
  "language_info": {
   "codemirror_mode": {
    "name": "ipython",
    "version": 3
   },
   "file_extension": ".py",
   "mimetype": "text/x-python",
   "name": "python",
   "nbconvert_exporter": "python",
   "pygments_lexer": "ipython3",
   "version": "3.13.3"
  }
 },
 "nbformat": 4,
 "nbformat_minor": 5
}

{
 "cells": [
  {
   "cell_type": "markdown",
   "metadata": {
    "collapsed": false
   },
   "source": [
    "# Special Value: `None`"
   ]
  },
  {
   "cell_type": "markdown",
   "metadata": {
    "collapsed": false
   },
   "source": [
    "`None` means no value. Its data type is `NoneType`.\n",
    "To test if a an expression has `None` value (that is, no value), we use `is` operator."
   ]
  },
  {
   "cell_type": "code",
   "execution_count": null,
   "id": "6d169b1b",
   "metadata": {},
   "outputs": [],
   "source": [
    "data = None\n",
    "print(data)\n",
    "if data is None:\n",
    "    print(\"data is not None\")\n",
    "\n",
    "data = 42\n",
    "print(data)\n",
    "if data is None:\n",
    "    print(\"data is not None\")"
   ]
  },
  {
   "cell_type": "markdown",
   "id": "1a8f9ab0",
   "metadata": {
    "collapsed": false
   },
   "source": [
    "Functions or methods that do not return anything have a `None` return value.\n",
    "\n",
    "Many `list` methods modify the `list` object on which they are called, but do NOT return anything."
   ]
  },
  {
   "cell_type": "code",
   "execution_count": null,
   "id": "4e416791",
   "metadata": {
    "collapsed": false
   },
   "outputs": [],
   "source": [
    "nums = [1, 2, 3]\n",
    "\n",
    "more_nums = nums.append(4)"
   ]
  },
  {
   "cell_type": "markdown",
   "id": "1eca35df",
   "metadata": {},
   "source": [
    "This will print `None`."
   ]
  },
  {
   "cell_type": "code",
   "execution_count": null,
   "id": "db650f9a",
   "metadata": {},
   "outputs": [],
   "source": [
    "print(more_nums)"
   ]
  },
  {
   "cell_type": "markdown",
   "id": "7765ca89",
   "metadata": {},
   "source": [
    "The original list was modified and now contains 4."
   ]
  },
  {
   "cell_type": "code",
   "execution_count": null,
   "id": "a81371a1",
   "metadata": {
    "collapsed": false
   },
   "outputs": [],
   "source": [
    "nums"
   ]
  },
  {
   "cell_type": "markdown",
   "id": "cd7ab8e4",
   "metadata": {},
   "source": [
    "For readable code, do not assign to a variable if the function or method does not return anything."
   ]
  },
  {
   "cell_type": "code",
   "execution_count": null,
   "id": "6fd96f44",
   "metadata": {},
   "outputs": [],
   "source": [
    "nums.append(5)"
   ]
  },
  {
   "cell_type": "markdown",
   "id": "e81c2adf",
   "metadata": {},
   "source": [
    "The original list was modified and now contains 5 also."
   ]
  },
  {
   "cell_type": "code",
   "execution_count": null,
   "id": "9801cafc",
   "metadata": {},
   "outputs": [],
   "source": [
    "nums"
   ]
  }
 ],
 "metadata": {
  "jupytext": {
   "cell_metadata_filter": "-all",
   "main_language": "python",
   "notebook_metadata_filter": "-all"
  },
  "kernelspec": {
   "display_name": "instruction-notebook-lDGMCnlp-py3.13",
   "language": "python",
   "name": "python3"
  },
  "language_info": {
   "codemirror_mode": {
    "name": "ipython",
    "version": 3
   },
   "file_extension": ".py",
   "mimetype": "text/x-python",
   "name": "python",
   "nbconvert_exporter": "python",
   "pygments_lexer": "ipython3",
   "version": "3.13.3"
  }
 },
 "nbformat": 4,
 "nbformat_minor": 5
}

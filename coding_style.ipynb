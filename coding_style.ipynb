{
 "cells": [
  {
   "attachments": {},
   "cell_type": "markdown",
   "id": "70eace16",
   "metadata": {},
   "source": [
    "## Examples of Good Coding Style"
   ]
  },
  {
   "cell_type": "code",
   "execution_count": null,
   "id": "6a2186e3",
   "metadata": {},
   "outputs": [],
   "source": [
    "# Closing brace/ bracket/ parenthesis on multi-line list lines up\n",
    "# under the first non-whitespace character of the last line of the list.\n",
    "my_list = [\n",
    "    1, 2, 3,\n",
    "    4, 5, 6,\n",
    "    ]\n",
    "result = long_function_name_that_does_something(\n",
    "    'a', 'b', 'c',\n",
    "    'd', 'e', 'f',\n",
    "    )"
   ]
  },
  {
   "cell_type": "code",
   "execution_count": null,
   "id": "d809ec6d",
   "metadata": {},
   "outputs": [],
   "source": [
    "# One level of indentation for the continuation line\n",
    "# for a long list of parameters in a function definition.\n",
    "# Break before the first argument in the function call.\n",
    "# All continuation lines are indented at the same level.\n",
    "foo = long_function_name_that_does_something(\n",
    "    var_one, var_two,\t\t\t# this is a continuation line\n",
    "    var_three, var_four)\t\t# this is another continuation line"
   ]
  },
  {
   "cell_type": "code",
   "execution_count": null,
   "id": "7ae2e440",
   "metadata": {},
   "outputs": [],
   "source": [
    "# Add a comment after continuation line,\n",
    "# which will provide some distinction in editors supporting syntax\n",
    "# highlighting.\n",
    "if (this_is_one_thing and\n",
    "        that_is_another_thing):\n",
    "    # Since both conditions are true, we can do something.\n",
    "    long_function_name_that_does_something()"
   ]
  },
  {
   "cell_type": "code",
   "execution_count": null,
   "id": "b1bde436",
   "metadata": {},
   "outputs": [],
   "source": [
    "# Add some extra indentation on the conditional continuation line.\n",
    "if (this_is_one_thing\n",
    "        and that_is_another_thing):\n",
    "    long_function_name_that_does_something()"
   ]
  },
  {
   "cell_type": "code",
   "execution_count": null,
   "id": "8dfb85a6",
   "metadata": {},
   "outputs": [],
   "source": [
    "# Two extra indentations included to distinguish this from the rest.\n",
    "def long_function_name(\n",
    "        param_one, param_two, param_three,  # this is a continuation line\n",
    "        param_four):\t\t\t\t        # this is another continuation line\n",
    "    print(param_one)"
   ]
  },
  {
   "cell_type": "code",
   "execution_count": null,
   "id": "909254fb",
   "metadata": {},
   "outputs": [],
   "source": [
    "\n",
    "var_one, var_two, var_three, var_four = 0\n",
    "this_is_one_thing, that_is_another_thing = False"
   ]
  },
  {
   "cell_type": "code",
   "execution_count": null,
   "id": "b6b6439b",
   "metadata": {},
   "outputs": [],
   "source": [
    "# Prefer descriptive function names, but not too long.\n",
    "def long_function_name_that_does_something(*args):\n",
    "    \"\"\"No-op.\"\"\"\n",
    "    return \"\""
   ]
  },
  {
   "attachments": {},
   "cell_type": "markdown",
   "id": "28905803",
   "metadata": {},
   "source": [
    "## Examples of Bad Coding tyle"
   ]
  },
  {
   "cell_type": "code",
   "execution_count": null,
   "id": "f52fb083",
   "metadata": {
    "lines_to_next_cell": 1
   },
   "outputs": [],
   "source": [
    "# Vertical alignment is NOT used for the arguments in the function call.\n",
    "foo = long_function_name_that_does_something(var_one, var_two,\n",
    "var_three, var_four)"
   ]
  },
  {
   "cell_type": "code",
   "execution_count": null,
   "id": "23ed633a",
   "metadata": {
    "lines_to_next_cell": 2
   },
   "outputs": [],
   "source": [
    "# Further indentation required as indentation is not distinguishable\n",
    "# between the 2nd continuation line and the following statement, print( ).\n",
    "def long_function_name(\n",
    "param_one, param_two, param_three,\n",
    "param_four):\n",
    "    print(param_one)"
   ]
  }
 ],
 "metadata": {
  "jupytext": {
   "cell_metadata_filter": "-all",
   "main_language": "python",
   "notebook_metadata_filter": "-all"
  },
  "kernelspec": {
   "display_name": ".venv",
   "language": "python",
   "name": "python3"
  },
  "language_info": {
   "codemirror_mode": {
    "name": "ipython",
    "version": 3
   },
   "file_extension": ".py",
   "mimetype": "text/x-python",
   "name": "python",
   "nbconvert_exporter": "python",
   "pygments_lexer": "ipython3",
   "version": "3.11.1"
  }
 },
 "nbformat": 4,
 "nbformat_minor": 5
}

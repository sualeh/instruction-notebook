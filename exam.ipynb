{
 "cells": [
  {
   "cell_type": "markdown",
   "metadata": {},
   "source": [
    "# Exam 1"
   ]
  },
  {
   "cell_type": "markdown",
   "metadata": {},
   "source": [
    "## Question 1 \n",
    "\n",
    "Consider the function definition in the 1st column below. "
   ]
  },
  {
   "cell_type": "code",
   "execution_count": null,
   "metadata": {},
   "outputs": [],
   "source": [
    "def print_many(x, y):\n",
    "\n",
    "  for idx in range(y):\n",
    "\n",
    "    print(x)\n",
    "\n",
    "z = 3\n",
    "# call print_many()"
   ]
  },
  {
   "cell_type": "markdown",
   "metadata": {},
   "source": [
    "a. Which of the following statements in the 2nd column correctly call the function?   \n",
    "Enter below the letter (or letters) in front of the statement(s) that are correct calls. \n",
    "\n",
    "b. Explain your answer to Question 1.a ."
   ]
  },
  {
   "cell_type": "code",
   "execution_count": null,
   "metadata": {},
   "outputs": [],
   "source": [
    "# A.\n",
    "print_many(x, 7)"
   ]
  },
  {
   "cell_type": "code",
   "execution_count": null,
   "metadata": {},
   "outputs": [],
   "source": [
    "# B.\n",
    "print_many"
   ]
  },
  {
   "cell_type": "code",
   "execution_count": null,
   "metadata": {},
   "outputs": [],
   "source": [
    "# C.\n",
    "print_many('Greetings')"
   ]
  },
  {
   "cell_type": "code",
   "execution_count": null,
   "metadata": {},
   "outputs": [],
   "source": [
    "# D.\n",
    "print_many('Greetings', 10)"
   ]
  },
  {
   "cell_type": "code",
   "execution_count": null,
   "metadata": {},
   "outputs": [],
   "source": [
    "# E.\n",
    "print_many('Greetings', z)"
   ]
  },
  {
   "cell_type": "markdown",
   "metadata": {},
   "source": [
    "-----"
   ]
  },
  {
   "cell_type": "markdown",
   "metadata": {},
   "source": [
    "> Correct answers: \n",
    "> - 1a. D. and E. Partial points for A."
   ]
  },
  {
   "cell_type": "markdown",
   "metadata": {},
   "source": [
    "## Question 2 \n",
    "\n",
    "Consider the following code.  "
   ]
  },
  {
   "cell_type": "code",
   "execution_count": null,
   "metadata": {},
   "outputs": [],
   "source": [
    "def calc_nums(num_lst):\n",
    "  print(1)\n",
    "  print ('Print result')\n",
    "  result = 1\n",
    "  for num in num_lst:\n",
    "    result = result * num + 2\n",
    "  return result\n",
    "  print(f'sum is {sum}')\n",
    "\n",
    "result = calc_nums([1, 2, 3])\n"
   ]
  },
  {
   "cell_type": "markdown",
   "metadata": {},
   "source": [
    "a. What's the value of `res` after the `calc_nums()` call is executed? ___________ \n",
    "\n",
    "b. How many lines will be printed out? ________________"
   ]
  },
  {
   "cell_type": "markdown",
   "metadata": {},
   "source": [
    "-----"
   ]
  },
  {
   "cell_type": "code",
   "execution_count": null,
   "metadata": {},
   "outputs": [],
   "source": [
    "# Run for 2a.\n",
    "print(result)"
   ]
  },
  {
   "cell_type": "markdown",
   "metadata": {},
   "source": [
    "> Correct answers: \n",
    "> - 2a. 26   \n",
    "> - 2b. 2"
   ]
  },
  {
   "cell_type": "markdown",
   "metadata": {},
   "source": [
    "## Problem 1"
   ]
  },
  {
   "cell_type": "markdown",
   "metadata": {},
   "source": [
    "### Problem 1.1"
   ]
  },
  {
   "cell_type": "code",
   "execution_count": null,
   "metadata": {},
   "outputs": [],
   "source": [
    "def find_pos(num_lst, num):\n",
    "    pos = 0                     # 1 point\n",
    "    for a_num in num_lst:       # 3 points\n",
    "        if a_num > num:         # 3 points\n",
    "            return pos          # 3 points\n",
    "        else:                   # 5 points\n",
    "            pos = pos + 1       # 4 points\n",
    "    return pos                  # 1 point\n",
    "\n",
    "\n",
    "print(f\"find_pos([6, 9, 12], 3) returns {find_pos([6, 9, 12], 3)}\")\n",
    "print(f\"find_pos([6, 9, 12], 10) returns {find_pos([6, 9, 12], 10)}\")"
   ]
  },
  {
   "cell_type": "markdown",
   "metadata": {},
   "source": [
    "### Problem 1.2"
   ]
  },
  {
   "cell_type": "code",
   "execution_count": null,
   "metadata": {},
   "outputs": [],
   "source": [
    "def merge(a_lst, b_lst):\n",
    "    for b_n in b_lst:\n",
    "        idx = find_pos(a_lst, b_n)\n",
    "        a_lst.insert(idx, b_n)\n",
    "    return a_lst\n",
    "\n",
    "print(f\"merge([1, 4, 7], [2, 3, 5, 9] returns {merge([1, 4, 7], [2, 3, 5, 9])}\")\n"
   ]
  },
  {
   "cell_type": "markdown",
   "metadata": {},
   "source": [
    "Scoring: \n",
    "- 5 points each line.  \n",
    "- -2 for each incorrect arg.  \n",
    "- -2 for out of order args.  \n",
    "- -3 for incorrect indentation.  \n",
    "- -1 for each unnecessary line of code.   "
   ]
  },
  {
   "cell_type": "markdown",
   "metadata": {},
   "source": [
    "## Problem 2"
   ]
  },
  {
   "cell_type": "markdown",
   "metadata": {},
   "source": [
    "-----\n",
    "\n",
    "Scoring:\n",
    "\n",
    "- Examine each character                      (10) \n",
    "- Accumulate word one char at a time          (5) \n",
    "- Add to accumulator if space is found        (5) \n",
    "- Full credit here even if failed to  \n",
    "- accumulate word one char at a time \n",
    "- OR end of sentence.                         (5) \n"
   ]
  }
 ],
 "metadata": {
  "kernelspec": {
   "display_name": ".venv",
   "language": "python",
   "name": "python3"
  },
  "language_info": {
   "codemirror_mode": {
    "name": "ipython",
    "version": 3
   },
   "file_extension": ".py",
   "mimetype": "text/x-python",
   "name": "python",
   "nbconvert_exporter": "python",
   "pygments_lexer": "ipython3",
   "version": "3.11.0"
  },
  "orig_nbformat": 4
 },
 "nbformat": 4,
 "nbformat_minor": 2
}

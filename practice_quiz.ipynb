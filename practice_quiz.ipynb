{
 "cells": [
  {
   "cell_type": "markdown",
   "metadata": {},
   "source": [
    "# Practice Quiz"
   ]
  },
  {
   "cell_type": "markdown",
   "metadata": {},
   "source": [
    "## Question 1 \n",
    "\n",
    "Function `golds_cricket(total_golds)` is specified as follows: \n",
    "\n",
    "Find the countries which have more than 3 golds in cricket. \n",
    "\n",
    "Parameter total_golds is a dictionary \n",
    "\n",
    "Return a dictionary. The keys are countries which has more than 3 golds in cricket and values are the number of golds in cricket of that country. "
   ]
  },
  {
   "cell_type": "code",
   "execution_count": null,
   "metadata": {},
   "outputs": [],
   "source": [
    "total_golds = {\n",
    "    \"United States\": {\"baseball\": 3, \"cricket\": 4, \"soccer\": 5},\n",
    "    \"India\": {\"baseball\": 1, \"cricket\": 6, \"soccer\": 2},\n",
    "    \"China\": {\"baseball\": 3, \"cricket\": 5, \"soccer\": 5},\n",
    "    \"Spain\": {\"baseball\": 2, \"cricket\": 3, \"soccer\": 1},\n",
    "    \"England\": {\"baseball\": 4, \"cricket\": 2, \"soccer\": 4},\n",
    "    \"Brazil\": {\"baseball\": 2, \"cricket\": 1, \"soccer\": 3},\n",
    "    \"Italy\": {\"baseball\": 3, \"cricket\": 2, \"soccer\": 7},\n",
    "}"
   ]
  },
  {
   "cell_type": "markdown",
   "metadata": {},
   "source": [
    "## Question 2 \n",
    "\n",
    "Function `chars_most_frequent(sentence)` is specified as follows: \n",
    "\n",
    "Find the character or characters in sentence that with the same highest frequency  \n",
    "\n",
    "Parameter sentence is a string \n",
    "\n",
    "Return a list of characters with the same highest frequency.  \n",
    "\n",
    "Hint: Create a dictionary that keeps track of how often each character in sentence occurs. The keys are the characters and the values are how often each characters occurs.  \n",
    "\n",
    "Example:  \n",
    "\n",
    "`sentence = 'one book is bigger'`\n",
    "\n",
    "The dictionary that records each letter frequency is:  \n",
    "\n",
    "`{'o': 3, 'n': 1, 'e': 2, ' ': 3, 'b': 2, 'k': 1, 'I': 2, 'g': 2, 'r': 1}`\n",
    "\n",
    "The function will return: ['o', ' '] "
   ]
  },
  {
   "cell_type": "code",
   "execution_count": null,
   "metadata": {},
   "outputs": [],
   "source": [
    "sentence = 'one book is bigger'"
   ]
  },
  {
   "cell_type": "markdown",
   "metadata": {},
   "source": [
    "## Question 3\n",
    "\n",
    "Create variable b to reference value 15. Create variable a to reference a value obtained from the user. Use a conditional to check if the value of b is greater than a, in which case multiple a by 2. Otherwise, do nothing. Finally, create variable c to reference the sum of a and b.  "
   ]
  }
 ],
 "metadata": {
  "kernelspec": {
   "display_name": ".venv",
   "language": "python",
   "name": "python3"
  },
  "language_info": {
   "codemirror_mode": {
    "name": "ipython",
    "version": 3
   },
   "file_extension": ".py",
   "mimetype": "text/x-python",
   "name": "python",
   "nbconvert_exporter": "python",
   "pygments_lexer": "ipython3",
   "version": "3.11.0"
  }
 },
 "nbformat": 4,
 "nbformat_minor": 2
}

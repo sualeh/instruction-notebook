{
 "cells": [
  {
   "attachments": {},
   "cell_type": "markdown",
   "id": "aa31679a",
   "metadata": {},
   "source": [
    "# Accumulation Pattern"
   ]
  },
  {
   "attachments": {},
   "cell_type": "markdown",
   "id": "c8c69aa3",
   "metadata": {},
   "source": [
    "Define function using accumulation pattern"
   ]
  },
  {
   "cell_type": "code",
   "execution_count": null,
   "id": "3ba44f54",
   "metadata": {},
   "outputs": [],
   "source": [
    "def even_nums(num_list):\n",
    "    \"\"\"Filter out odd numbers from a list of numbers.\n",
    "\n",
    "    Args:\n",
    "        num_list (list): List of numbers.\n",
    "\n",
    "    Returns:\n",
    "        list: List of even numbers.\n",
    "    \"\"\"\n",
    "    # Define accumulator variable `result`, initialized with empty list\n",
    "    # Why? To assemble even numbers from `num_list`\n",
    "    result = []\n",
    "    # Iterate over collection `num_list` with loop variable `num` of type integer\n",
    "    # Why? To get hold of each number in `num_list`\n",
    "    for num in num_list:\n",
    "        # Check if loop variable `num` is even\n",
    "        # Why? To filter what goes into the accumulator `result`\n",
    "        if num % 2 == 0:\n",
    "            # Append only even numbers from collection into the accumulator\n",
    "            result.append(num)\n",
    "    # Return accumulator `result`\n",
    "    return result"
   ]
  },
  {
   "attachments": {},
   "cell_type": "markdown",
   "id": "bd0472f5",
   "metadata": {},
   "source": [
    "Call the function"
   ]
  },
  {
   "cell_type": "code",
   "execution_count": null,
   "id": "de1d37f6",
   "metadata": {},
   "outputs": [],
   "source": [
    "num_list = [1, 2, 3, 4, 5]\n",
    "print(even_nums(num_list))"
   ]
  }
 ],
 "metadata": {
  "jupytext": {
   "cell_metadata_filter": "-all",
   "main_language": "python",
   "notebook_metadata_filter": "-all"
  },
  "kernelspec": {
   "display_name": "instruction-notebook-lDGMCnlp-py3.13",
   "language": "python",
   "name": "python3"
  },
  "language_info": {
   "codemirror_mode": {
    "name": "ipython",
    "version": 3
   },
   "file_extension": ".py",
   "mimetype": "text/x-python",
   "name": "python",
   "nbconvert_exporter": "python",
   "pygments_lexer": "ipython3",
   "version": "3.13.3"
  }
 },
 "nbformat": 4,
 "nbformat_minor": 5
}

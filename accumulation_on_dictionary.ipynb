{
 "cells": [
  {
   "attachments": {},
   "cell_type": "markdown",
   "id": "ebda3e3c",
   "metadata": {},
   "source": [
    "## Accumulation Pattern with Dictionaries"
   ]
  },
  {
   "attachments": {},
   "cell_type": "markdown",
   "id": "5660ed25",
   "metadata": {},
   "source": [
    "### Problem Statement\n",
    "Calculate and print out the total number of all items in an inventory. The inventory maintains the number of items for each item name. "
   ]
  },
  {
   "cell_type": "markdown",
   "id": "ce2c6927",
   "metadata": {},
   "source": [
    "**Input**: The inventory is represented as a Python dictionary. \n",
    "- Has pairs of **keys** and **values**. \n",
    "- A key is the item's name. \n",
    "- The associated value is the number of items for that name. \n",
    "\n",
    "**Output**: Total number of all items."
   ]
  },
  {
   "cell_type": "markdown",
   "id": "71d07162",
   "metadata": {},
   "source": [
    "## Stub Out the Method\n",
    "\n",
    "Stub out the method (no implementation) so that we can see the test case failing."
   ]
  },
  {
   "cell_type": "code",
   "execution_count": null,
   "id": "6e63c103",
   "metadata": {},
   "outputs": [],
   "source": [
    "def size(inventory_d: dict) -> int:\n",
    "    return 0"
   ]
  },
  {
   "cell_type": "markdown",
   "id": "de762e6d",
   "metadata": {},
   "source": [
    "### Test Case"
   ]
  },
  {
   "cell_type": "markdown",
   "id": "a1e4f4e5",
   "metadata": {},
   "source": [
    "Write the test case. Make sure the test fails, since we do not have any implementation yet:"
   ]
  },
  {
   "cell_type": "code",
   "execution_count": null,
   "id": "c69136b6",
   "metadata": {},
   "outputs": [],
   "source": [
    "def happy_path_test():\n",
    "    inventory = {\"pen\": 100, \"pencil\": 50}\n",
    "    expected_result = 150\n",
    "    actual_result = size(inventory) # call size() to get the actual result\n",
    "\n",
    "    print(f'size({inventory}) returns {size(inventory)}')\n",
    "    assert actual_result == expected_result\n",
    "\n",
    "happy_path_test()"
   ]
  },
  {
   "cell_type": "markdown",
   "id": "d6b1a585",
   "metadata": {},
   "source": [
    "### Design `size(inventory_d)` Function"
   ]
  },
  {
   "cell_type": "markdown",
   "id": "9319a6ce",
   "metadata": {},
   "source": [
    "- **Define the accumulator**\n",
    "    - Define an accumulator variable, `total`, of type `int` and initialized with 0.\n",
    "    - Why? To assemble the total number of all items.\n",
    "- **Iteration**\n",
    "    - Iterate over the VALUES of the dictionary `inventory_d.values()` with loop variable `count`\n",
    "    - Why? To get the number of items for each pair in the dictionary\n",
    "    - At each step, accumulate `count` in `total`\n",
    "- **Return the accumulator**"
   ]
  },
  {
   "cell_type": "markdown",
   "id": "aacba175",
   "metadata": {},
   "source": [
    "### Implement `size(inventory_d)` Function "
   ]
  },
  {
   "cell_type": "code",
   "execution_count": null,
   "id": "3b0d6e81",
   "metadata": {},
   "outputs": [],
   "source": [
    "def size(inventory_d: dict) -> int:\n",
    "    \"\"\"\n",
    "    Calculate the total count of items in an inventory represented as a dictionary.\n",
    "\n",
    "    Args:\n",
    "        inventory_d (dict): A dictionary where keys represent items and values\n",
    "                            represent their respective counts.\n",
    "\n",
    "    Returns:\n",
    "        int: The total count of items in the inventory.\n",
    "    \"\"\"\n",
    "    total = 0\n",
    "    for count in inventory_d.values():\n",
    "        total = total + count\n",
    "    return total"
   ]
  },
  {
   "cell_type": "markdown",
   "id": "bcccc80d",
   "metadata": {},
   "source": [
    "## Ensure that the Test Case Passes"
   ]
  },
  {
   "cell_type": "code",
   "execution_count": null,
   "id": "b2c7732b",
   "metadata": {},
   "outputs": [],
   "source": [
    "happy_path_test()"
   ]
  }
 ],
 "metadata": {
  "jupytext": {
   "cell_metadata_filter": "-all",
   "main_language": "python",
   "notebook_metadata_filter": "-all"
  },
  "kernelspec": {
   "display_name": "instruction-notebook-lDGMCnlp-py3.13",
   "language": "python",
   "name": "python3"
  },
  "language_info": {
   "codemirror_mode": {
    "name": "ipython",
    "version": 3
   },
   "file_extension": ".py",
   "mimetype": "text/x-python",
   "name": "python",
   "nbconvert_exporter": "python",
   "pygments_lexer": "ipython3",
   "version": "3.13.3"
  }
 },
 "nbformat": 4,
 "nbformat_minor": 5
}

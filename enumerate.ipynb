{
 "cells": [
  {
   "cell_type": "markdown",
   "metadata": {},
   "source": [
    "# `enumerate()` To Get Indexes\n",
    "\n",
    "- `enumerate()` is built-in into Python\n",
    "- Gives the index and value as a tuple with each loop"
   ]
  },
  {
   "cell_type": "code",
   "execution_count": null,
   "metadata": {},
   "outputs": [],
   "source": [
    "students = ['one', 'two', 'three']\n",
    "for idx, name in enumerate(students):\n",
    "    print(f'[{idx}] {name}')"
   ]
  },
  {
   "cell_type": "markdown",
   "metadata": {},
   "source": [
    "You can implement a countdown too."
   ]
  },
  {
   "cell_type": "code",
   "execution_count": null,
   "metadata": {},
   "outputs": [],
   "source": [
    "students = ['sam', 'taylor', 'ann', 'chris']\n",
    "for idx, name in enumerate(students):\n",
    "    countdown = len(students) - idx\n",
    "    print(f'#{countdown} {name}')"
   ]
  },
  {
   "cell_type": "markdown",
   "metadata": {},
   "source": [
    "You can do operations with the index. You can also use it to access a parallel list or tuple."
   ]
  },
  {
   "cell_type": "code",
   "execution_count": null,
   "metadata": {},
   "outputs": [],
   "source": [
    "# `grades` and `students` are parallel tuples\n",
    "grades = (95, 100, 78, 85)\n",
    "students = ('sam', 'tylor', 'ann', 'chris')\n",
    "for idx, grade in enumerate(grades):\n",
    "    print(f'{students[idx]} has grade {grade}')"
   ]
  },
  {
   "cell_type": "markdown",
   "metadata": {},
   "source": [
    "You can use the list or dict functions to convert what `enumerate()` returns."
   ]
  },
  {
   "cell_type": "code",
   "execution_count": null,
   "metadata": {},
   "outputs": [],
   "source": [
    "students = ['sam', 'taylor', 'ann', 'chris']\n",
    "print(list(enumerate(students)))\n",
    "print(dict(enumerate(students)))"
   ]
  }
 ],
 "metadata": {
  "kernelspec": {
   "display_name": "instruction-notebook-lDGMCnlp-py3.13",
   "language": "python",
   "name": "python3"
  },
  "language_info": {
   "codemirror_mode": {
    "name": "ipython",
    "version": 3
   },
   "file_extension": ".py",
   "mimetype": "text/x-python",
   "name": "python",
   "nbconvert_exporter": "python",
   "pygments_lexer": "ipython3",
   "version": "3.13.3"
  }
 },
 "nbformat": 4,
 "nbformat_minor": 2
}

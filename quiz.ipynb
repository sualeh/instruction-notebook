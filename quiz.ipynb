{
 "cells": [
  {
   "attachments": {},
   "cell_type": "markdown",
   "id": "c0a42bb0",
   "metadata": {},
   "source": [
    "# Quiz"
   ]
  },
  {
   "attachments": {},
   "cell_type": "markdown",
   "id": "87ef0142",
   "metadata": {},
   "source": [
    "# Question 1\n",
    "\n",
    "> Section 11.4.2.6, question10_3_4\n",
    "\n",
    "What is printed by the following statements?"
   ]
  },
  {
   "cell_type": "code",
   "execution_count": null,
   "id": "c6b8b8b2",
   "metadata": {
    "lines_to_next_cell": 2
   },
   "outputs": [],
   "source": [
    "total = 0\n",
    "mydict = {\"cat\": 12, \"dog\": 6, \"elephant\": 23, \"bear\": 20}\n",
    "for akey in mydict:\n",
    "    if len(akey) > 3:\n",
    "        total = total + mydict[akey]\n",
    "print(total)"
   ]
  },
  {
   "attachments": {},
   "cell_type": "markdown",
   "id": "b603e26d",
   "metadata": {},
   "source": [
    "A. 18  \n",
    "B. 43  \n",
    "C. 0  \n",
    "D. 61"
   ]
  },
  {
   "attachments": {},
   "cell_type": "markdown",
   "id": "f6281d76",
   "metadata": {},
   "source": [
    "## Question 2\n",
    "\n",
    "What is printed by the following statements?\n"
   ]
  },
  {
   "cell_type": "code",
   "execution_count": null,
   "id": "95ff42fd",
   "metadata": {
    "lines_to_next_cell": 2
   },
   "outputs": [],
   "source": [
    "mydict = {\"cat\": 12, \"dog\": 6, \"elephant\": 23, \"bear\": 20}\n",
    "yourdict = mydict\n",
    "yourdict[\"elephant\"] = 999\n",
    "print(mydict[\"elephant\"])"
   ]
  },
  {
   "attachments": {},
   "cell_type": "markdown",
   "id": "04a7e59e",
   "metadata": {},
   "source": [
    "A. 23  \n",
    "B. None  \n",
    "C. 999  \n",
    "D. Error, there are two different keys named \"elephant\""
   ]
  },
  {
   "attachments": {},
   "cell_type": "markdown",
   "id": "6ac0c12b",
   "metadata": {},
   "source": [
    "## Question 3\n",
    "\n",
    "> Section 6.9.8, e5mc8\n",
    "\n",
    "The following code contains an infinite loop.\n",
    "Which is the best explanation for why the loop does not terminate?"
   ]
  },
  {
   "cell_type": "code",
   "execution_count": null,
   "id": "c35323e9",
   "metadata": {
    "lines_to_next_cell": 2
   },
   "outputs": [],
   "source": [
    "n = 10\n",
    "answer = 1\n",
    "while n > 0:\n",
    "    answer = answer + n\n",
    "    n = n + 1\n",
    "print(answer)"
   ]
  },
  {
   "attachments": {},
   "cell_type": "markdown",
   "id": "3e4c326a",
   "metadata": {},
   "source": [
    "A. n starts at 10 and is incremented by 1 each time through the loop, so it will always be positive  \n",
    "B. answer starts at 1 and is incremented by n each time, so it will always be positive  \n",
    "C. You cannot compare n to 0 in while loop. You must compare it to another variable  \n",
    "D. In the while loop body, we must set n to False, and this code does not do that"
   ]
  },
  {
   "attachments": {},
   "cell_type": "markdown",
   "id": "5dceba3f",
   "metadata": {},
   "source": [
    "## Question 4\n",
    "\n",
    "Which of the following is a legal assignment statement, after the following code executes?\n",
    "\n",
    "`d = {\"key1\": {\"a\": 5, \"c\": 90, 5: 50}, \"key2\": {\"b\": 3, \"c\": \"yes\"}}`\n",
    "\n",
    "A. `d[5] = {1: 2, 3: 4}`  \n",
    "B. `d[{1:2, 3:4}] = 5`  \n",
    "C. `d['key1']['d'] = d['key2']`  \n",
    "D. `d[key2] = 3`  "
   ]
  },
  {
   "cell_type": "code",
   "execution_count": null,
   "id": "e7f4d7f0",
   "metadata": {},
   "outputs": [],
   "source": [
    "# Option A\n",
    "d = {\"key1\": {\"a\": 5, \"c\": 90, 5: 50}, \"key2\": {\"b\": 3, \"c\": \"yes\"}}\n",
    "d[5] = {1: 2, 3: 4}\n",
    "print(d)"
   ]
  },
  {
   "cell_type": "code",
   "execution_count": null,
   "id": "1e29486b",
   "metadata": {},
   "outputs": [],
   "source": [
    "# Option B\n",
    "d = {\"key1\": {\"a\": 5, \"c\": 90, 5: 50}, \"key2\": {\"b\": 3, \"c\": \"yes\"}}\n",
    "d[{1: 2, 3: 4}] = 5\n",
    "print(d)"
   ]
  },
  {
   "cell_type": "code",
   "execution_count": null,
   "id": "5da4b92f",
   "metadata": {},
   "outputs": [],
   "source": [
    "# Option C\n",
    "d = {\"key1\": {\"a\": 5, \"c\": 90, 5: 50}, \"key2\": {\"b\": 3, \"c\": \"yes\"}}\n",
    "d[\"key1\"][\"d\"] = d[\"key2\"]\n",
    "print(d)"
   ]
  },
  {
   "cell_type": "code",
   "execution_count": null,
   "id": "ec6f6c30",
   "metadata": {},
   "outputs": [],
   "source": [
    "# Option D\n",
    "d = {\"key1\": {\"a\": 5, \"c\": 90, 5: 50}, \"key2\": {\"b\": 3, \"c\": \"yes\"}}\n",
    "d[key2] = 3\n",
    "print(d)"
   ]
  }
 ],
 "metadata": {
  "jupytext": {
   "cell_metadata_filter": "-all",
   "main_language": "python",
   "notebook_metadata_filter": "-all"
  },
  "kernelspec": {
   "display_name": "instruction-notebook-lDGMCnlp-py3.13",
   "language": "python",
   "name": "python3"
  },
  "language_info": {
   "codemirror_mode": {
    "name": "ipython",
    "version": 3
   },
   "file_extension": ".py",
   "mimetype": "text/x-python",
   "name": "python",
   "nbconvert_exporter": "python",
   "pygments_lexer": "ipython3",
   "version": "3.13.3"
  }
 },
 "nbformat": 4,
 "nbformat_minor": 5
}
